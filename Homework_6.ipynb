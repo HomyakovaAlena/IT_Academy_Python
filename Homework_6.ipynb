{
 "cells": [
  {
   "cell_type": "markdown",
   "metadata": {
    "id": "8TMI2IQojoxl"
   },
   "source": [
    "### Задача для домашней работы\n",
    "\n",
    "\n",
    "Реализовать функцию `get_ranges` которая получает на вход непустой список неповторяющихся целых чисел, отсортированных по возрастанию, которая этот список “сворачивает”.\n",
    "\n",
    " ```python\n",
    "get_ranges([0, 1, 2, 3, 4, 7, 8, 10])  #  \"0-4, 7-8, 10\"\n",
    "get_ranges([4,7,10])  # \"4, 7, 10\"\n",
    "get_ranges([2, 3, 8, 9])  # \"2-3, 8-9\"\n",
    " ```\n"
   ]
  },
  {
   "cell_type": "code",
   "execution_count": 66,
   "metadata": {},
   "outputs": [
    {
     "name": "stdout",
     "output_type": "stream",
     "text": [
      "0-4, 7-8, 10\n",
      "4, 7, 10\n",
      "2-3, 8-9\n"
     ]
    }
   ],
   "source": [
    "def get_ranges(*args):\n",
    "    iterable = list(*args)\n",
    "    slow = iterable[0]\n",
    "    result = ''\n",
    "    \n",
    "    for i in range(1, len(iterable)):\n",
    "        cur = iterable[i]\n",
    "        prev = iterable[i - 1]\n",
    "\n",
    "        if cur - prev != 1:\n",
    "            if slow != prev:\n",
    "                result += str(slow) + '-' + str(prev) + ', '\n",
    "            else:\n",
    "                result += str(slow) + ', '\n",
    "            slow = iterable[i]\n",
    "        \n",
    "    if slow != cur:\n",
    "        result += str(slow) + '-' + str(cur)\n",
    "    else:\n",
    "        result += str(cur)\n",
    "    \n",
    "    return result\n",
    "\n",
    "\n",
    "print(get_ranges([0, 1, 2, 3, 4, 7, 8, 10]))\n",
    "print(get_ranges([4,7,10]))\n",
    "print(get_ranges([2, 3, 8, 9]))\n"
   ]
  },
  {
   "cell_type": "markdown",
   "metadata": {},
   "source": [
    "Задачки для души, как обычно:\n",
    "[Количество цифр](https://acmp.ru/asp/do/index.asp?main=topic&id_course=1&id_section=6&id_topic=116),\n",
    "[Подсчёт букв](https://acmp.ru/asp/do/index.asp?main=task&id_course=1&id_section=6&id_topic=116&id_problem=715),\n",
    "[Число сочетаний](https://acmp.ru/asp/do/index.asp?main=task&id_course=1&id_section=6&id_topic=116&id_problem=716),\n",
    "[Сумма простых чисел](https://acmp.ru/asp/do/index.asp?main=task&id_course=1&id_section=6&id_topic=116&id_problem=717),\n",
    "[Простые операции над массивом](https://acmp.ru/asp/do/index.asp?main=task&id_course=1&id_section=6&id_topic=117&id_problem=722),\n",
    "[Гипотеза Гольдбаха](https://acmp.ru/asp/do/index.asp?main=task&id_course=1&id_section=6&id_topic=117&id_problem=723)\n",
    "\n",
    "Не пугайтесь, если задачи не будут заходить из-за времени (будут слишком долго работать на сервере) - таков Python."
   ]
  },
  {
   "cell_type": "markdown",
   "metadata": {},
   "source": [
    "[Количество цифр](https://acmp.ru/asp/do/index.asp?main=topic&id_course=1&id_section=6&id_topic=116)"
   ]
  },
  {
   "cell_type": "code",
   "execution_count": 93,
   "metadata": {},
   "outputs": [
    {
     "data": {
      "text/plain": [
       "7"
      ]
     },
     "execution_count": 93,
     "metadata": {},
     "output_type": "execute_result"
    }
   ],
   "source": [
    "def isDigit(str):\n",
    "    return sum([1 for i in str if i.isdigit()])\n",
    "\n",
    "\n",
    "string = 'A % 5 k 8 k h fkdj47495f'\n",
    "isDigit(string)"
   ]
  },
  {
   "cell_type": "markdown",
   "metadata": {},
   "source": [
    "[Подсчёт букв](https://acmp.ru/asp/do/index.asp?main=task&id_course=1&id_section=6&id_topic=116&id_problem=715)"
   ]
  },
  {
   "cell_type": "code",
   "execution_count": 95,
   "metadata": {},
   "outputs": [
    {
     "data": {
      "text/plain": [
       "9"
      ]
     },
     "execution_count": 95,
     "metadata": {},
     "output_type": "execute_result"
    }
   ],
   "source": [
    "def IsLetter(C):\n",
    "    return sum([1 for i in string if i.isalpha()])\n",
    "\n",
    "\n",
    "string = 'A % 5 k 8 k h fkdj47495f'\n",
    "IsLetter(string)"
   ]
  },
  {
   "cell_type": "markdown",
   "metadata": {},
   "source": [
    "\n",
    "[Число сочетаний](https://acmp.ru/asp/do/index.asp?main=task&id_course=1&id_section=6&id_topic=116&id_problem=716)"
   ]
  },
  {
   "cell_type": "code",
   "execution_count": 112,
   "metadata": {},
   "outputs": [
    {
     "name": "stdout",
     "output_type": "stream",
     "text": [
      "35\n"
     ]
    }
   ],
   "source": [
    "def F(n):\n",
    "    if n <= 1:\n",
    "        return 1\n",
    "    else:\n",
    "        return F(n -1) * n\n",
    "\n",
    "lst1 = list(map(int, input().split()))\n",
    "\n",
    "n = lst1[0]\n",
    "k = lst1[1]\n",
    "C = F(n) / (F(k) * F(n - k))\n",
    "print(int(C))"
   ]
  },
  {
   "cell_type": "markdown",
   "metadata": {},
   "source": [
    "\n",
    "[Сумма простых чисел](https://acmp.ru/asp/do/index.asp?main=task&id_course=1&id_section=6&id_topic=116&id_problem=717)"
   ]
  },
  {
   "cell_type": "code",
   "execution_count": 4,
   "metadata": {},
   "outputs": [
    {
     "name": "stdout",
     "output_type": "stream",
     "text": [
      "19\n",
      "Yes\n"
     ]
    }
   ],
   "source": [
    "def IsPrime(N):\n",
    "    if N <= 1:\n",
    "        return False\n",
    "    for i in range(2, N - 1):\n",
    "        if N % i == 0:\n",
    "            return False\n",
    "    return True\n",
    "\n",
    "\n",
    "lst = list(map(int, input().split()))\n",
    "summ = 0\n",
    "for i in lst:\n",
    "    if IsPrime(i):\n",
    "        summ += i\n",
    "\n",
    "print(summ)\n",
    "print('Yes') if IsPrime(summ) else print('No')\n"
   ]
  },
  {
   "cell_type": "markdown",
   "metadata": {},
   "source": [
    "\n",
    "[Простые операции над массивом](https://acmp.ru/asp/do/index.asp?main=task&id_course=1&id_section=6&id_topic=117&id_problem=722)"
   ]
  },
  {
   "cell_type": "code",
   "execution_count": 2,
   "metadata": {},
   "outputs": [
    {
     "name": "stdout",
     "output_type": "stream",
     "text": [
      "55\n",
      "2\n",
      "10\n"
     ]
    }
   ],
   "source": [
    "def modify_array(arr, operation, *args):\n",
    "    if operation == 'get':\n",
    "        index = int(min(*args))\n",
    "        return arr[index - 1]\n",
    "    if operation == 'rsq':\n",
    "        indexes = list(*args)\n",
    "        return sum(arr[int(indexes[0]) - 1: int(indexes[1])])\n",
    "    if operation == 'rmq':\n",
    "        indexes = list(*args)\n",
    "        return min(arr[int(indexes[0]) - 1: int(indexes[1])])\n",
    "    if operation == 'update':\n",
    "        indexes = list(*args)\n",
    "        x = int(list(*args)[-1])\n",
    "        for key, value in enumerate(arr):\n",
    "            if key in range(int(indexes[0]) - 1, int(indexes[1])):\n",
    "                arr[key] = x\n",
    "    if operation == 'add':\n",
    "        indexes = list(*args)\n",
    "        x = int(list(*args)[-1])\n",
    "        for key, value in enumerate(arr):\n",
    "            if key in range(int(indexes[0]) - 1, int(indexes[1])):\n",
    "                arr[key] += x\n",
    "\n",
    "\n",
    "n = int(input())\n",
    "arr = list(map(int, input().split()))\n",
    "req = int(input())\n",
    "for i in range(req):\n",
    "    new_operation = list(input().split())\n",
    "    if new_operation[0] in ['add', 'update']:\n",
    "        modify_array(arr, new_operation[0], new_operation[1:])\n",
    "    if new_operation[0] in ['get', 'rmq', 'rsq']:\n",
    "        print(modify_array(arr, new_operation[0], new_operation[1:]))"
   ]
  },
  {
   "cell_type": "markdown",
   "metadata": {},
   "source": [
    "\n",
    "[Гипотеза Гольдбаха](https://acmp.ru/asp/do/index.asp?main=task&id_course=1&id_section=6&id_topic=117&id_problem=723)"
   ]
  },
  {
   "cell_type": "code",
   "execution_count": 7,
   "metadata": {},
   "outputs": [
    {
     "name": "stdout",
     "output_type": "stream",
     "text": [
      "73 919\n"
     ]
    }
   ],
   "source": [
    "n = int(input())\n",
    "for i in range(n):\n",
    "    if IsPrime(i) and IsPrime(n - i):\n",
    "        print(i, n - i)\n",
    "        break\n",
    "\n",
    "\n",
    "def IsPrime(N):\n",
    "    if N <= 1:\n",
    "        return False\n",
    "    for i in range(2, N - 1):\n",
    "        if N % i == 0:\n",
    "            return False\n",
    "    return True\n"
   ]
  },
  {
   "cell_type": "markdown",
   "metadata": {},
   "source": [
    "### Задача для домашней работы\n",
    "\n",
    "\n",
    "Реализовать функцию `is_prime` которая получает на вход натуральное число и возвращает `True` в случае, если это число простое, иначе `False`. Простыми числами называются те числа, которые имеют **ровно** два **различных** делителя - 1 и само себя (1 не является простым числом). Используйте `any`/`all`.\n",
    "\n",
    " ```python\n",
    "is_prime(1) # False\n",
    "is_prime(7) # True\n",
    "is_prime(12345) # False\n",
    " ```\n",
    "\n",
    "\n",
    "\n"
   ]
  },
  {
   "cell_type": "code",
   "execution_count": 28,
   "metadata": {},
   "outputs": [
    {
     "name": "stdout",
     "output_type": "stream",
     "text": [
      "False\n",
      "True\n",
      "False\n"
     ]
    }
   ],
   "source": [
    "def is_prime(n):\n",
    "    if n == 1:\n",
    "        return False\n",
    "    return all([n % i != 0 for i in range(2, n)])\n",
    "\n",
    "print(is_prime(12345))\n",
    "print(is_prime(7))\n",
    "print(is_prime(1))"
   ]
  },
  {
   "cell_type": "markdown",
   "metadata": {},
   "source": [
    "### Задача для домашней работы\n",
    "\n",
    "\n",
    "Надо решить следующие задачи:\n",
    "- Реализовать функцию `print_forward`, принимающую на вход список. Данная функция должна рекурсивно выводить элементы этого списка в `stdout` по одному за каждый вызов функции. `print_forward` может принимать и другие аргументы.\n",
    "    \n",
    "\n",
    "```python\n",
    "# должен вывестись осмысленный текст\n",
    "print_forward(['Это', 'игрушечный', 'пример', 'не', 'используйте', 'рекурсию', 'для', 'такого'])\n",
    " ```\n",
    " "
   ]
  },
  {
   "cell_type": "code",
   "execution_count": 3,
   "metadata": {},
   "outputs": [
    {
     "name": "stdout",
     "output_type": "stream",
     "text": [
      "Это\n",
      "игрушечный\n",
      "пример\n",
      "не\n",
      "используйте\n",
      "рекурсию\n",
      "для\n",
      "такого\n"
     ]
    }
   ],
   "source": [
    "def print_forward(lst):\n",
    "    i = - len(lst) + 1\n",
    "    print(lst[0])\n",
    "\n",
    "    if i < 0:\n",
    "        return print_forward(lst[i:])\n",
    "\n",
    "\n",
    "lst1 = ['Это', 'игрушечный', 'пример', 'не',\n",
    "        'используйте', 'рекурсию', 'для', 'такого']\n",
    "print_forward(lst1)\n"
   ]
  },
  {
   "cell_type": "markdown",
   "metadata": {},
   "source": [
    "Чуть прямее решение "
   ]
  },
  {
   "cell_type": "code",
   "execution_count": 4,
   "metadata": {},
   "outputs": [
    {
     "name": "stdout",
     "output_type": "stream",
     "text": [
      "Это\n",
      "игрушечный\n",
      "пример\n",
      "не\n",
      "используйте\n",
      "рекурсию\n",
      "для\n",
      "такого\n"
     ]
    }
   ],
   "source": [
    "def print_forward(lst):\n",
    "    if len(lst) > 0:\n",
    "        print(lst[0])\n",
    "        return print_forward(lst[1:])\n",
    "\n",
    "\n",
    "lst1 = ['Это', 'игрушечный', 'пример', 'не',\n",
    "        'используйте', 'рекурсию', 'для', 'такого']\n",
    "print_forward(lst1)\n"
   ]
  },
  {
   "cell_type": "markdown",
   "metadata": {},
   "source": [
    " - Реализовать функцию `print_backward`, принимающую на вход список. Данная функция должна рекурсивно выводить в обратном порядке элементы этого списка в `stdout` по одному за каждый вызов функции. `print_backward` может принимать и другие аргументы.\n",
    "    \n",
    "\n",
    "```python\n",
    "# должен вывестись осмысленный текст\n",
    "print_forward(['сложнее', 'задачу', 'решить', 'можно', 'Теперь'])\n",
    " ```\n"
   ]
  },
  {
   "cell_type": "code",
   "execution_count": 2,
   "metadata": {},
   "outputs": [
    {
     "name": "stdout",
     "output_type": "stream",
     "text": [
      "Теперь\n",
      "можно\n",
      "решить\n",
      "задачу\n",
      "сложнее\n"
     ]
    }
   ],
   "source": [
    "def print_backward(lst):\n",
    "    i = len(lst) - 1\n",
    "    print(lst[i])\n",
    "\n",
    "    if i > 0:\n",
    "        return print_backward(lst[:i])\n",
    "\n",
    "\n",
    "lst1 = ['сложнее', 'задачу', 'решить', 'можно', 'Теперь']\n",
    "print_backward(lst1)\n"
   ]
  },
  {
   "cell_type": "markdown",
   "metadata": {},
   "source": [
    " - Реализовать функцию `binary_strings`, принимающую на вход натуральное число `n`. Данная функция должна рекурсивно генерировать все бинарные строки длины `n`. Бинарная строка - строка, состоящая из 0 и 1.\n",
    "    \n",
    "\n",
    "```python\n",
    "binary_strings(3)\n",
    "\n",
    "'''\n",
    "000\n",
    "001\n",
    "010\n",
    "011\n",
    "100\n",
    "101\n",
    "110\n",
    "111\n",
    "'''\n",
    " ```\n"
   ]
  },
  {
   "cell_type": "markdown",
   "metadata": {},
   "source": [
    "вариант через бинарные числа - кривоват, не выводит строку нужной длины для мелких чисел (или через костыли)"
   ]
  },
  {
   "cell_type": "code",
   "execution_count": 39,
   "metadata": {},
   "outputs": [
    {
     "name": "stdout",
     "output_type": "stream",
     "text": [
      "0\n",
      "1\n",
      "10\n",
      "11\n",
      "100\n",
      "101\n",
      "110\n",
      "111\n"
     ]
    }
   ],
   "source": [
    "def binary_strings(n):\n",
    "    for i in range(2 ** n):\n",
    "        decimal_to_binary(i)\n",
    "        print()\n",
    "\n",
    "def decimal_to_binary(num):\n",
    "    if num > 1:\n",
    "        decimal_to_binary(num // 2)\n",
    "    print(num % 2, end='')\n",
    "\n",
    "binary_strings(3)"
   ]
  },
  {
   "cell_type": "code",
   "execution_count": 26,
   "metadata": {},
   "outputs": [
    {
     "name": "stdout",
     "output_type": "stream",
     "text": [
      "000\n",
      "001\n",
      "010\n",
      "011\n",
      "100\n",
      "101\n",
      "110\n",
      "111\n",
      "\n"
     ]
    }
   ],
   "source": [
    "from itertools import product\n",
    "def bin_str(n):\n",
    "\n",
    "    lst = list(product(range(2), repeat=n))\n",
    "    for i in lst:\n",
    "        print(*i, sep='')\n",
    "    return ''\n",
    " \n",
    "\n",
    "print(bin_str(3))\n"
   ]
  },
  {
   "cell_type": "code",
   "execution_count": 100,
   "metadata": {},
   "outputs": [
    {
     "name": "stdout",
     "output_type": "stream",
     "text": [
      "000\n",
      "100\n",
      "010\n",
      "110\n",
      "001\n",
      "101\n",
      "011\n",
      "111\n"
     ]
    }
   ],
   "source": [
    "def print_binary(num):\n",
    "    if num == 1:\n",
    "        return ['0', '1']\n",
    "    else:\n",
    "        array = print_binary(num - 1)\n",
    "        result = []\n",
    "        for i in array:\n",
    "            result.append(\"0\" + i)\n",
    "            result.append(\"1\" + i)\n",
    "    \n",
    "        return result\n",
    "\n",
    "print(*print_binary(3), sep='\\n')"
   ]
  },
  {
   "cell_type": "code",
   "execution_count": 1,
   "metadata": {},
   "outputs": [
    {
     "name": "stdout",
     "output_type": "stream",
     "text": [
      "000\n",
      "001\n",
      "010\n",
      "011\n",
      "100\n",
      "101\n",
      "110\n",
      "111\n"
     ]
    }
   ],
   "source": [
    "def print_binary2(need, string=''):\n",
    "    if need == 0:\n",
    "        print(string)\n",
    "    else:\n",
    "        print_binary2(need - 1, string + '0')\n",
    "        print_binary2(need - 1, string + '1')\n",
    "\n",
    "\n",
    "print_binary2(3)"
   ]
  },
  {
   "cell_type": "markdown",
   "metadata": {},
   "source": [
    "### Задача для домашней работы\n",
    "\n",
    "- Реализовать декоратор `timeit`, который должен засекать время работы декорируемой функции. Декоратор опционально должен принимать параметр количество замеров (вызовов функции) и возвращать среднее время выполнения функции. Используйте `time` из модуля `time`, как в примерах\n",
    "    \n",
    "\n",
    "```python\n",
    "@timeit(n=5)\n",
    "def foo(n):\n",
    "    return sum(range(n))\n",
    "\n",
    "foo(1000) # должно вернуться усредненное время выполнения этой функции\n",
    " ```\n",
    " \n"
   ]
  },
  {
   "cell_type": "code",
   "execution_count": 169,
   "metadata": {},
   "outputs": [
    {
     "name": "stdout",
     "output_type": "stream",
     "text": [
      "Result of function: 4999950000\n",
      "Execution time:  0.00465994119644165\n"
     ]
    }
   ],
   "source": [
    "import time\n",
    "\n",
    "def timeit(n):\n",
    "    def dec(func):\n",
    "        start = time.time()\n",
    "        def wrapper(*args, **kwargs):\n",
    "            nonlocal start      \n",
    "            for i in range(n):\n",
    "                func(*args, **kwargs)\n",
    "            print('Result of function:', func(*args, **kwargs))\n",
    "            print('Execution time: ', (time.time() - start) / n)\n",
    "        return wrapper\n",
    "    return dec\n",
    "\n",
    "@timeit(n=100)\n",
    "def foo(n):\n",
    "    return sum(range(n))\n",
    "\n",
    "foo(100000)"
   ]
  },
  {
   "cell_type": "markdown",
   "metadata": {},
   "source": [
    " \n",
    "- Реализовать функцию-генератор, реализующую полный функционал built-in-функции `range`.\n",
    "\n",
    "```python\n",
    "# так делать не надо =))))\n",
    "def myrange(*args, **kwargs):\n",
    "    yield from range(*args, **kwargs)\n",
    "```\n",
    "    \n",
    "   \n",
    "\n",
    "\n",
    "```python\n",
    "# должно выводиться одно и то же\n",
    "# не забывайте и про отрицательный шаг\n",
    "for i in myrange(1, 10, 2):\n",
    "    print(i, end=' ')\n",
    "print()\n",
    "for i in range(1, 10, 2):\n",
    "    print(i, end=' ')\n",
    "```\n",
    "\n",
    "Кстати `yield from iterable` будет `yield'ить` элементы из `iterable` один за другим.\n",
    "Точно так же, как\n",
    "```python\n",
    "for el in iterable:\n",
    "    yield el\n",
    "```\n"
   ]
  },
  {
   "cell_type": "code",
   "execution_count": 142,
   "metadata": {},
   "outputs": [
    {
     "name": "stdout",
     "output_type": "stream",
     "text": [
      "1 3 5 7 9 \n",
      "1 3 5 7 9 "
     ]
    }
   ],
   "source": [
    "def my_range(*args, **kwargs):\n",
    "    \n",
    "    args = [*args]\n",
    "    kwargs = {**kwargs}\n",
    "\n",
    "    assert len(args) != 0 or len(kwargs.keys()) != 0, 'my_range expected at least 1 argument, got 0'\n",
    "    assert len(args) <= 3 or len(\n",
    "        kwargs.keys()) <= 3, f'my_range expected at most 3 arguments, got {len(args)}'\n",
    "    if len(args) == 1:\n",
    "        start = 0\n",
    "        stop = args[0]\n",
    "        step = 1\n",
    "    \n",
    "    elif len(args) == 2:\n",
    "        start = args[0]\n",
    "        stop = args[1]\n",
    "        step = 1\n",
    "\n",
    "    elif len(args) == 3:\n",
    "        start = args[0]\n",
    "        stop = args[1]\n",
    "        step = args[2]\n",
    "\n",
    "    else:\n",
    "        start = kwargs.get('start', 0)\n",
    "        stop = kwargs.get('stop')\n",
    "        step = kwargs.get('step', 1)\n",
    "\n",
    "    assert step != 0, 'my_range arg 3 must not be zero'\n",
    "       \n",
    "    iterable = []\n",
    "    el = start\n",
    "\n",
    "    if step > 0:\n",
    "        while el < stop:\n",
    "            iterable.append(el)\n",
    "            el += step\n",
    "    if step < 0:\n",
    "        while el > stop:\n",
    "            iterable.append(el)\n",
    "            el += step\n",
    "    \n",
    "    yield from iterable\n",
    "\n",
    "\n",
    "for i in my_range(1, 10, 2):\n",
    "    print(i, end=' ')\n",
    "print()\n",
    "for i in range(1, 10, 2):\n",
    "    print(i, end=' ')\n"
   ]
  },
  {
   "cell_type": "markdown",
   "metadata": {},
   "source": [
    "- Реализовать функцию-генератор, генерирующую бинарные строки **рекурсивно** (всё, как и в задании на рекурсию, но функция-генератор). Используйте `yield from`\n",
    "\n",
    "```python\n",
    "# так делать не надо =))))\n",
    "for el in binary_strings(2):\n",
    "    print(el)\n",
    "'''\n",
    "всё те же\n",
    "00\n",
    "01\n",
    "10\n",
    "11\n",
    "'''\n",
    "```"
   ]
  },
  {
   "cell_type": "code",
   "execution_count": 170,
   "metadata": {},
   "outputs": [
    {
     "name": "stdout",
     "output_type": "stream",
     "text": [
      "000\n",
      "100\n",
      "010\n",
      "110\n",
      "001\n",
      "101\n",
      "011\n",
      "111\n"
     ]
    }
   ],
   "source": [
    "def print_binary_yield(num):\n",
    "    if num == 1:\n",
    "        yield from ['0', '1']\n",
    "    else:\n",
    "        array = print_binary_yield(num - 1)\n",
    "        result = []\n",
    "        for i in array:\n",
    "            result.append(\"0\" + i)\n",
    "            result.append(\"1\" + i)\n",
    "        yield from result\n",
    "\n",
    "\n",
    "print(*list(print_binary_yield(3)), sep='\\n')"
   ]
  },
  {
   "cell_type": "markdown",
   "metadata": {
    "id": "BBtZDrOuQK7X"
   },
   "source": [
    "## Задача для домашнего задания\n",
    "\n",
    "В файле хранятся данные с сайта IMDB. Скопированные данные хранятся в файле `ratings.list`. \n",
    "- Откройте и прочитайте файл(если его нет необходимо вывести ошибку). Найдите ТОП250 фильмов и извлеките заголовки.\n",
    "- Программа создает 3 файла:\n",
    "1. top250_movies.txt – названия фильмов. \n",
    "2. ratings.txt – гистограмма рейтингов.\n",
    "3. years.txt – гистограмма годов выпуска этих фильмов.\n",
    "\n",
    "Гистограмма - некоторый словарь. Например гистограмма годов выпуска будет иметь примерно такой вид:\n",
    "```\n",
    "{2016: 1000, 2017: 900, 2018: 1200}\n",
    "```\n",
    "\n"
   ]
  },
  {
   "cell_type": "markdown",
   "metadata": {},
   "source": [
    "1. Генерим файл top250_movies"
   ]
  },
  {
   "cell_type": "code",
   "execution_count": 287,
   "metadata": {},
   "outputs": [],
   "source": [
    "import os\n",
    "assert os.path.exists(\"ratings.list\"), 'file does not exist'\n",
    "\n",
    "with open('ratings.list', 'r') as fh:\n",
    "    data = [line.strip() for line in fh.readlines()]\n",
    "# print(*data[27:280], type(data), sep='\\n')"
   ]
  },
  {
   "cell_type": "code",
   "execution_count": 288,
   "metadata": {},
   "outputs": [],
   "source": [
    "import json\n",
    "\n",
    "with open('ratings.list', 'r') as fh:\n",
    "    obj = fh.readlines()[27:278]\n",
    "    \n",
    "with open('ratings.json', 'w', encoding=\"utf-16\") as js_fh:\n",
    "    json_data = json.dump(obj, js_fh, ensure_ascii=False, indent='')\n",
    "\n",
    "with open('ratings.json', 'r', encoding=\"utf-16\") as js_fh:\n",
    "    deserialized = json.load(js_fh)\n",
    "    data = [line.strip('\\t\\n').split(\"  \")\n",
    "            for line in deserialized]\n",
    "\n",
    "# print(*data[:28], sep='\\n')"
   ]
  },
  {
   "cell_type": "code",
   "execution_count": 289,
   "metadata": {},
   "outputs": [
    {
     "name": "stdout",
     "output_type": "stream",
     "text": [
      "['Distribution', 'Votes', 'Rank', 'Title']\n",
      "['0000000125', '1888533', ' 9.2', 'The Shawshank Redemption (1994)']\n",
      "['0000000125', '1289428', ' 9.2', 'The Godfather (1972)']\n",
      "['0000000124', '889607', ' 9.0', 'The Godfather: Part II (1974)']\n"
     ]
    }
   ],
   "source": [
    "columns = (data[0][1:])\n",
    "print(columns)\n",
    "\n",
    "rows = [line for line in data[1:]]\n",
    "print(*rows[:3], sep='\\n')\n",
    "titles = [row[3] + '\\n' for row in rows]\n",
    "\n",
    "with open('top250_movies.txt', 'w') as fh:\n",
    "    fh.writelines(titles)"
   ]
  },
  {
   "cell_type": "markdown",
   "metadata": {},
   "source": [
    "2. Строим гистограмму рейтингов из общего перечня фильмов"
   ]
  },
  {
   "cell_type": "code",
   "execution_count": 21,
   "metadata": {},
   "outputs": [],
   "source": [
    "with open('ratings.list', 'r') as fh:\n",
    "    data = [line.strip() for line in fh.readlines()]\n",
    "# print(*data[789445:789451], type(data), sep='\\n')"
   ]
  },
  {
   "cell_type": "code",
   "execution_count": 22,
   "metadata": {},
   "outputs": [],
   "source": [
    "import json\n",
    "\n",
    "with open('ratings.list', 'r') as fh:\n",
    "    obj = fh.readlines()[295:789451]\n",
    "\n",
    "with open('ratings_full.json', 'w', encoding=\"utf-16\") as js_fh:\n",
    "    json_data = json.dump(obj, js_fh, ensure_ascii=False, indent='')\n",
    "\n",
    "with open('ratings_full.json', 'r', encoding=\"utf-16\") as js_fh:\n",
    "    deserialized = json.load(js_fh)\n",
    "    data = [line.split()\n",
    "            for line in deserialized]\n",
    "\n",
    "# print(*data[:10], sep='\\n')"
   ]
  },
  {
   "cell_type": "code",
   "execution_count": 23,
   "metadata": {},
   "outputs": [
    {
     "name": "stdout",
     "output_type": "stream",
     "text": [
      "789155\n",
      "['4.1', '6.4', '6.3', '7.4', '9.0', '7.8', '7.7', '7.3', '6.7', '6.6', '6.9', '7.0', '5.6', '6.4', '6.3', '5.6', '8.7', '6.3', '6.4', '7.9', '8.3', '6.7', '7.8', '7.7', '9.2', '9.0', '8.1', '7.6', '9.3', '9.3', '9.4', '9.2', '9.1', '9.2', '7.4', '5.3', '7.0', '9.2', '7.4', '7.1', '6.6', '7.0', '6.3', '6.8', '6.9', '7.1', '6.9', '7.0', '7.0', '6.8']\n"
     ]
    }
   ],
   "source": [
    "# columns = (data[0][3:])\n",
    "# print(columns)\n",
    "\n",
    "rows = [line for line in data[1:]]\n",
    "# print(*rows[:5], sep='\\n')\n",
    "rows_count = sum([1 for row in rows])\n",
    "print(rows_count)\n",
    "\n",
    "ranks = [row[2].strip() for row in rows] \n",
    "print(ranks[:50])"
   ]
  },
  {
   "cell_type": "code",
   "execution_count": 24,
   "metadata": {},
   "outputs": [
    {
     "name": "stdout",
     "output_type": "stream",
     "text": [
      "[9, 10]: 32601\n",
      "[8, 9): 154354\n",
      "[7, 8): 255237\n",
      "[6, 7): 183899\n",
      "[5, 6): 93652\n",
      "[4, 5): 41940\n",
      "[3, 4): 17421\n",
      "[0, 3): 10051\n",
      "Total number of films: 789155\n"
     ]
    }
   ],
   "source": [
    "dct_ranks = {}\n",
    "count = 'Invalid data'\n",
    "more9 = '[9, 10]'\n",
    "more8 = '[8, 9)'\n",
    "more7 = '[7, 8)'\n",
    "more6 = '[6, 7)'\n",
    "more5 = '[5, 6)'\n",
    "more4 = '[4, 5)'\n",
    "more3 = '[3, 4)'\n",
    "less3 = '[0, 3)'\n",
    "keys = [count, more9, more8, more7, more6, more5, more4, more3, less3]\n",
    "dct_ranks = {key: 0 for key in keys}\n",
    "\n",
    "for rank in ranks:\n",
    "    if float(rank) >= 9.0:\n",
    "        dct_ranks[more9] += 1\n",
    "    elif 8 <= float(rank) < 9.0 :\n",
    "        dct_ranks[more8] += 1\n",
    "    elif 7 <= float(rank) < 8.0:\n",
    "        dct_ranks[more7] += 1\n",
    "    elif 6 <= float(rank) < 7.0:\n",
    "        dct_ranks[more6] += 1\n",
    "    elif 5 <= float(rank) < 6.0:\n",
    "        dct_ranks[more5] += 1\n",
    "    elif 4 <= float(rank) < 5.0:\n",
    "        dct_ranks[more4] += 1\n",
    "    elif 3 <= float(rank) < 4.0:\n",
    "        dct_ranks[more3] += 1\n",
    "    elif float(rank) < 3.0:\n",
    "        dct_ranks[less3] += 1\n",
    "    else:\n",
    "        # print(rank)\n",
    "        count += 1\n",
    "\n",
    "values = [dct_ranks.get(key) for key in keys]\n",
    "total_number = sum(values)\n",
    "\n",
    "# for key, value in dct_ranks.items():\n",
    "#     print(f'{key}: {value}')\n",
    "\n",
    "del dct_ranks[count]\n",
    "\n",
    "for key, value in dct_ranks.items():\n",
    "    print(f'{key}: {value}')\n",
    "    \n",
    "print('Total number of films:', total_number)"
   ]
  },
  {
   "cell_type": "code",
   "execution_count": 25,
   "metadata": {},
   "outputs": [
    {
     "data": {
      "image/png": "[encoded data removed]",
      "text/plain": [
       "<Figure size 432x288 with 1 Axes>"
      ]
     },
     "metadata": {
      "needs_background": "light"
     },
     "output_type": "display_data"
    }
   ],
   "source": [
    "import matplotlib.pyplot as plt\n",
    "keys = sorted(dct_ranks.keys())\n",
    "values = [dct_ranks.get(key) for key in keys]\n",
    "\n",
    "plt.bar(keys, values)\n",
    "plt.show()"
   ]
  },
  {
   "cell_type": "code",
   "execution_count": 7,
   "metadata": {},
   "outputs": [],
   "source": [
    "with open('ratings.txt', 'w') as fh:\n",
    "    for key, value in dct_ranks.items():\n",
    "        fh.write('{}: {:,} \\n'.format(key, value))"
   ]
  },
  {
   "cell_type": "markdown",
   "metadata": {},
   "source": [
    "3. Строим гистограмму годов выпуска из общего перечня фильмов"
   ]
  },
  {
   "cell_type": "code",
   "execution_count": 26,
   "metadata": {},
   "outputs": [
    {
     "name": "stdout",
     "output_type": "stream",
     "text": [
      "{1994: 9869, 2006: 23695, 2015: 28154, 2014: 29998, 2016: 25682, 2013: 31510, 2012: 31521, 2017: 16039, 2011: 33344, 2010: 29843, 1986: 7368, 2001: 16413, 1984: 6903, 2002: 17679, 2004: 22650, 2009: 28577, 2003: 20578, 1979: 5665, 1982: 5738, 2007: 26802, 1998: 13911, 1961: 2977, 1969: 5403, 1993: 12045, 2000: 15156, 1971: 4929, 1999: 15916, 1991: 6917, 1976: 5044, 2005: 28136, 2008: 24267, 1997: 12977, 1977: 5057, 1990: 8317, 1989: 8240, 1988: 7544, 1995: 10955, 1985: 8307, 1996: 16328, 1992: 9342, 1980: 4052, 1970: 4693, 1964: 4080, 1959: 3685, 1981: 6504, 1947: 1032, 1950: 2686, 1951: 1913, 1955: 3849, 1956: 2070, 1957: 4012, 1958: 3605, 1960: 3400, 1963: 3690, 1965: 4307, 1966: 4571, 1967: 4420, 1972: 4800, 1975: 5338, 1983: 5814, 1954: 2605, 1949: 1535, 1978: 5364, 1987: 8270, 1973: 4293, 1968: 4209, 1952: 2611, 1974: 5438, 1953: 1796, 1948: 1268, 1962: 3668, 1923: 341, 1938: 1260, 1936: 1277, 1930: 830, 1910: 307, 1945: 899, 1944: 968, 2018: 9, 1946: 1003, 1932: 1042, 1931: 954, 1937: 1263, 1913: 324, 1935: 1216, 1939: 1190, 1941: 1206, 1924: 382, 1917: 297, 1922: 300, 1901: 199, 1918: 258, 1899: 214, 1900: 238, 1914: 286, 1943: 1127, 1903: 215, 1920: 301, 1942: 1214, 1934: 1159, 1940: 1179, 1908: 234, 1898: 243, 1896: 415, 1897: 368, 1928: 570, 1925: 468, 1912: 383, 1915: 347, 1905: 160, 1933: 1050, 1916: 305, 1907: 164, 1926: 499, 1927: 541, 1909: 274, 1894: 95, 1921: 316, 1929: 659, 1911: 302, 1904: 192, 1906: 167, 1919: 273, 1902: 163, 1892: 9, 1888: 5, 1895: 81, 1893: 2, 1887: 3, 1883: 1, 1891: 10, 1889: 2, 1890: 6, 1874: 1, 1878: 1}\n"
     ]
    }
   ],
   "source": [
    "rows = [line for line in data[1:]]\n",
    "# print(*rows[100:150], sep='\\n')\n",
    "\n",
    "# years = [row[-1] for row in rows]\n",
    "# print(years[:50])\n",
    "\n",
    "dct_years = {}\n",
    "\n",
    "for row in rows:\n",
    "    for el in row:\n",
    "        if str(el).startswith('{'):\n",
    "            row = row.remove(el)\n",
    "# print(*rows[100:150], sep='\\n')\n",
    "\n",
    "count = 0\n",
    "for row in rows:\n",
    "    flag = False\n",
    "    for el in row:\n",
    "        if len(el) < 6:\n",
    "            pass\n",
    "        elif all([str(el).strip().startswith('('), str(el).strip().endswith(')'), str(el).strip()[1:5].isdigit()]):\n",
    "            count +=1\n",
    "            flag = True\n",
    "            if len(el) > 6:\n",
    "                el = el[:5]\n",
    "            new_year = int(el.replace('(', '').replace(')', ''))\n",
    "            if new_year not in dct_years:\n",
    "                dct_years[new_year] = 1\n",
    "            else:\n",
    "                dct_years[new_year] += 1\n",
    "            break\n",
    " \n",
    "    # if flag == False:\n",
    "        # print(row)  # 14 рядов c годом выпуска n/a\n",
    "\n",
    "# print(count) # 14 рядов годом выпуска n/a\n",
    "print(dct_years)"
   ]
  },
  {
   "cell_type": "code",
   "execution_count": 27,
   "metadata": {},
   "outputs": [
    {
     "data": {
      "image/png": "[encoded data removed]",
      "text/plain": [
       "<Figure size 432x288 with 1 Axes>"
      ]
     },
     "metadata": {
      "needs_background": "light"
     },
     "output_type": "display_data"
    }
   ],
   "source": [
    "import matplotlib.pyplot as plt\n",
    "keys = sorted(dct_years.keys())\n",
    "# print(max(keys))\n",
    "values = [dct_years.get(key) for key in keys]\n",
    "# print(sum(values))\n",
    "\n",
    "plt.bar(keys, values)\n",
    "plt.show()"
   ]
  },
  {
   "cell_type": "code",
   "execution_count": 17,
   "metadata": {},
   "outputs": [],
   "source": [
    "with open('years.txt', 'w') as fh:\n",
    "    for key, value in sorted(dct_years.items()):\n",
    "        fh.write('{}: {:,} \\n'.format(key, value))"
   ]
  }
 ],
 "metadata": {
  "colab": {
   "collapsed_sections": [],
   "name": "7. Функции_и_модульность.ipynb",
   "provenance": [],
   "toc_visible": true
  },
  "kernelspec": {
   "display_name": "Python 3.10.4 64-bit",
   "language": "python",
   "name": "python3"
  },
  "language_info": {
   "codemirror_mode": {
    "name": "ipython",
    "version": 3
   },
   "file_extension": ".py",
   "mimetype": "text/x-python",
   "name": "python",
   "nbconvert_exporter": "python",
   "pygments_lexer": "ipython3",
   "version": "3.10.4"
  },
  "vscode": {
   "interpreter": {
    "hash": "369f2c481f4da34e4445cda3fffd2e751bd1c4d706f27375911949ba6bb62e1c"
   }
  }
 },
 "nbformat": 4,
 "nbformat_minor": 1
}
