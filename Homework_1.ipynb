{
 "cells": [
  {
   "cell_type": "markdown",
   "metadata": {
    "id": "H4mq-uCucof4"
   },
   "source": [
    "## Задача для домашней работы\n",
    "Напишите программу, которая считает общую цену. Вводится M рублей и N копеек цена, а также количество S товара Посчитайте общую цену в рублях и копейках за L товаров. "
   ]
  },
  {
   "cell_type": "markdown",
   "metadata": {},
   "source": [
    "##### Вариант с вводом пользовательских данных <br>"
   ]
  },
  {
   "cell_type": "code",
   "execution_count": 22,
   "metadata": {},
   "outputs": [
    {
     "name": "stdout",
     "output_type": "stream",
     "text": [
      "Total cost = 4001 rub. 92 kop.\n"
     ]
    }
   ],
   "source": [
    "rubles, kopecks, quantity = int(\n",
    "    input('Enter price in rubles:')), int(input('Enter price in kopecks:')), float(input('Enter quantity of goods purchased:'))\n",
    "\n",
    "if rubles <=0 or kopecks <=0 or quantity <= 0:\n",
    "    print('Incorrect data')\n",
    "# Почему-то не работает выйти с exit(0) если данные некорректны, поэтому пришлось делать основную программу в else \n",
    "# (чтобы не выводился результат при ошибке в формате, например: Incorrect data -5 руб -5 копеек).\n",
    "else:\n",
    "    price_in_kopecks = rubles * 100 + kopecks\n",
    "    total_cost_rubles = round((price_in_kopecks * quantity) // 100)\n",
    "    total_cost_kopecks = round(((price_in_kopecks * quantity) % 100))\n",
    "    print(f'Total cost = {total_cost_rubles} rub. {total_cost_kopecks} kop.')"
   ]
  },
  {
   "cell_type": "markdown",
   "metadata": {},
   "source": [
    "##### Вариант 2 + обработка исключений"
   ]
  },
  {
   "cell_type": "code",
   "execution_count": 20,
   "metadata": {},
   "outputs": [
    {
     "name": "stdout",
     "output_type": "stream",
     "text": [
      "Total cost = 20 rub. 32 kop.\n"
     ]
    }
   ],
   "source": [
    "try:\n",
    "    rubles, kopecks, quantity = int(\n",
    "    input('Enter price in rubles:')), int(input('Enter price in kopecks:')), float(input('Enter quantity of goods purchased:'))\n",
    "except:\n",
    "    print('Incorrect data')\n",
    "\n",
    "if rubles <= 0 or kopecks <= 0 or quantity <= 0:\n",
    "    print('Incorrect data')\n",
    "else:\n",
    "    price_in_kopecks = rubles * 100 + kopecks\n",
    "    total_cost_rubles = int((price_in_kopecks * quantity) // 100)\n",
    "    total_cost_kopecks = round((price_in_kopecks * quantity) % 100)\n",
    "    print(f'Total cost = {total_cost_rubles} rub. {total_cost_kopecks} kop.')"
   ]
  }
 ],
 "metadata": {
  "interpreter": {
   "hash": "369f2c481f4da34e4445cda3fffd2e751bd1c4d706f27375911949ba6bb62e1c"
  },
  "kernelspec": {
   "display_name": "Python 3.10.4 64-bit",
   "language": "python",
   "name": "python3"
  },
  "language_info": {
   "codemirror_mode": {
    "name": "ipython",
    "version": 3
   },
   "file_extension": ".py",
   "mimetype": "text/x-python",
   "name": "python",
   "nbconvert_exporter": "python",
   "pygments_lexer": "ipython3",
   "version": "3.10.4"
  },
  "orig_nbformat": 4
 },
 "nbformat": 4,
 "nbformat_minor": 2
}
