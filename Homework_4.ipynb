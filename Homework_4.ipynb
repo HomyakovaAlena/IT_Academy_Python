{
 "cells": [
  {
   "cell_type": "markdown",
   "metadata": {
    "id": "0SLkedpVkVmo"
   },
   "source": [
    "# Итерируемые объекты"
   ]
  },
  {
   "cell_type": "markdown",
   "metadata": {
    "id": "2rceIG-hkbfg"
   },
   "source": [
    "## Списки"
   ]
  },
  {
   "cell_type": "markdown",
   "metadata": {
    "id": "zSR9jR2RtmkI"
   },
   "source": [
    "### Задачи для домашней работы\n",
    "\n",
    "#### Минимум, медиана, максимум\n",
    "\n",
    "Дан некоторый список из чисел. Необходимо вывести минимум, [медиану](https://ru.wikipedia.org/wiki/%D0%9C%D0%B5%D0%B4%D0%B8%D0%B0%D0%BD%D0%B0_(%D1%81%D1%82%D0%B0%D1%82%D0%B8%D1%81%D1%82%D0%B8%D0%BA%D0%B0)) и максимум из элементов для этого списка.\n",
    "\n",
    "Список интов из `stdin` можно прочитать следующим образом:\n",
    "\n",
    "```python\n",
    "arr = list(map(int, input().split()))\n",
    "```\n",
    "\n",
    "водить надо числа через **пробел** в **одну** строку\n",
    "\n",
    "-----\n",
    "\n",
    "input ```6 2 3 4 5 1```\n",
    "\n",
    "output ```1 3.5 6```\n",
    "\n",
    "-----\n",
    "\n",
    "\n",
    "input ```3 1 2```\n",
    "\n",
    "output ```1 2 3```\n",
    "\n",
    "\n",
    "-----\n",
    "\n"
   ]
  },
  {
   "cell_type": "code",
   "execution_count": 1,
   "metadata": {},
   "outputs": [
    {
     "name": "stdout",
     "output_type": "stream",
     "text": [
      "1 3.5 6\n"
     ]
    }
   ],
   "source": [
    "arr = list(map(int, input().split()))\n",
    "arr = sorted(arr)\n",
    "median_arr = (arr[len(arr) // 2]) if (len(arr) % 2 != 0) else ((arr[len(arr) // 2 - 1] + arr[len(arr) // 2]) / 2)\n",
    "\n",
    "print(min(arr), median_arr, max(arr))"
   ]
  },
  {
   "cell_type": "markdown",
   "metadata": {},
   "source": [
    "#### Через модуль statistics"
   ]
  },
  {
   "cell_type": "code",
   "execution_count": 2,
   "metadata": {},
   "outputs": [
    {
     "name": "stdout",
     "output_type": "stream",
     "text": [
      "1 2 3\n"
     ]
    }
   ],
   "source": [
    "import statistics\n",
    "arr = list(map(int, input().split()))\n",
    "print(min(arr), statistics.median(arr), max(arr))"
   ]
  },
  {
   "cell_type": "markdown",
   "metadata": {},
   "source": [
    "#### Через numpy"
   ]
  },
  {
   "cell_type": "code",
   "execution_count": 3,
   "metadata": {},
   "outputs": [
    {
     "name": "stdout",
     "output_type": "stream",
     "text": [
      "1 3.5 6\n"
     ]
    }
   ],
   "source": [
    "import numpy as np\n",
    "np.array = list(map(int, input().split()))\n",
    "print(np.min(np.array), np.median(np.array), np.max(np.array))"
   ]
  },
  {
   "cell_type": "markdown",
   "metadata": {},
   "source": [
    "#### Развернуть массив\n",
    "\n",
    "По аналогии с прошлой задачей дан список целых чисел. Кроме того, даны еще два числа *l*, *r*, которые обозначают левую границу и правую границу подотрезка в массиве, который надо будет отразить. Достаточно лишь вывести результирующий список. Индексы могут быть отрицательными\n",
    "\n",
    "-----\n",
    "\n",
    "input \n",
    "```\n",
    "6 2 3 4 5 1\n",
    "1 4\n",
    "```\n",
    "\n",
    "output ```[6, 5, 4, 3, 2, 1]```\n",
    "\n",
    "-----\n",
    "\n",
    "\n",
    "input \n",
    "```\n",
    "6 2 3 4 5 1\n",
    "-5 4\n",
    "```\n",
    "\n",
    "output ```6 5 4 3 2 1```\n",
    "\n",
    "\n",
    "-----"
   ]
  },
  {
   "cell_type": "code",
   "execution_count": 29,
   "metadata": {},
   "outputs": [
    {
     "name": "stdout",
     "output_type": "stream",
     "text": [
      "[6, 5, 4, 3, 2, 1]\n"
     ]
    }
   ],
   "source": [
    "arr_input = list(map(int, input().split()))\n",
    "bounds = list(map(int, input().split()))\n",
    "\n",
    "lower_bound, upper_bound = bounds[0], bounds[1]\n",
    "\n",
    "reversed_slice = arr_input[lower_bound:upper_bound + 1][::-1]\n",
    "result_arr = arr_input[:lower_bound] + reversed_slice + arr_input[upper_bound + 1:]\n",
    "\n",
    "print(result_arr)"
   ]
  },
  {
   "cell_type": "markdown",
   "metadata": {
    "id": "FzjaQEKr23Q3"
   },
   "source": [
    "## Кортежи"
   ]
  },
  {
   "cell_type": "markdown",
   "metadata": {
    "id": "FozTMZJ5qRRS"
   },
   "source": [
    "### Задачи для домашней работы\n",
    "\n",
    "- Создайте список `['a', 'b', 'c']` и сделайте из него кортеж."
   ]
  },
  {
   "cell_type": "code",
   "execution_count": 65,
   "metadata": {},
   "outputs": [
    {
     "name": "stdout",
     "output_type": "stream",
     "text": [
      "('a', 'b', 'c')\n"
     ]
    }
   ],
   "source": [
    "lst = ['a', 'b', 'c']\n",
    "tpl = tuple(lst)\n",
    "print(tpl)"
   ]
  },
  {
   "cell_type": "markdown",
   "metadata": {},
   "source": [
    "- Создайте кортеж `('a', 'b', 'c')`, И сделайте из него список."
   ]
  },
  {
   "cell_type": "code",
   "execution_count": 66,
   "metadata": {},
   "outputs": [
    {
     "name": "stdout",
     "output_type": "stream",
     "text": [
      "['a', 'b', 'c']\n"
     ]
    }
   ],
   "source": [
    "tpl = ('a', 'b', 'c')\n",
    "lst = list(tpl)\n",
    "print(lst)"
   ]
  },
  {
   "cell_type": "markdown",
   "metadata": {},
   "source": [
    "- Сделайте следующие присвоения одной строкой `a = 'a'`, `b=2`, `c=’python’`."
   ]
  },
  {
   "cell_type": "code",
   "execution_count": 67,
   "metadata": {},
   "outputs": [],
   "source": [
    "a, b, c = 'a', 2, 'python'"
   ]
  },
  {
   "cell_type": "markdown",
   "metadata": {},
   "source": [
    "\n",
    "- Создайте кортеж из одного элемента, чтобы при итерировании по этому элементы последовательно выводились значения `1, 2, 3`. Убедитесь что `len()` исходного кортежа возвращает `1`."
   ]
  },
  {
   "cell_type": "code",
   "execution_count": 23,
   "metadata": {},
   "outputs": [
    {
     "name": "stdout",
     "output_type": "stream",
     "text": [
      "[1, 2, 3]\n",
      "[1, 2, 3]\n",
      "[1, 2, 3]\n",
      "[1, 2, 3]\n",
      "1 1 1 1\n"
     ]
    }
   ],
   "source": [
    "import itertools\n",
    "\n",
    "tpl1 = range(1, 4),\n",
    "print([i for i in tpl1[0]])    \n",
    "\n",
    "tpl2 = [1, 2, 3],\n",
    "print([i for i in tpl2[0]])\n",
    "\n",
    "tpl3 = map(int, '123'),\n",
    "print([i for i in tpl3[0]])\n",
    "\n",
    "tpl4 = itertools.accumulate([1]*3),\n",
    "print([i for i in tpl4[0]])\n",
    "\n",
    "print(len(tpl1), len(tpl2), len(tpl3), len(tpl4))\n"
   ]
  },
  {
   "cell_type": "markdown",
   "metadata": {},
   "source": [
    "- В задаче на списки \"Развернуть массив\" введите индексы *l*, *r*, используя кортеж (индексы должны быть заданы в одну строку через пробел)"
   ]
  },
  {
   "cell_type": "code",
   "execution_count": 102,
   "metadata": {},
   "outputs": [
    {
     "name": "stdout",
     "output_type": "stream",
     "text": [
      "[6, 5, 4, 3, 2, 1]\n"
     ]
    }
   ],
   "source": [
    "arr_input = list(map(int, input().split()))\n",
    "bounds = tuple(map(int, input().split()))\n",
    "\n",
    "lower_bound, upper_bound = bounds[0], bounds[1]\n",
    "\n",
    "reversed_slice = arr_input[lower_bound:upper_bound + 1][::-1]\n",
    "result_arr = arr_input[:lower_bound] + reversed_slice + arr_input[upper_bound + 1:]\n",
    "\n",
    "print(result_arr)"
   ]
  },
  {
   "cell_type": "markdown",
   "metadata": {},
   "source": [
    "### Задачи для души\n",
    "\n",
    "Постарайтесь обойтись без циклов:\n",
    "[тык](https://acmp.ru/asp/do/index.asp?main=task&id_course=1&id_section=5&id_topic=113&id_problem=693)\n",
    "и\n",
    "[тык](https://acmp.ru/asp/do/index.asp?main=task&id_course=1&id_section=5&id_topic=113&id_problem=692)"
   ]
  },
  {
   "cell_type": "markdown",
   "metadata": {},
   "source": [
    "#### №1 Максимальный элемент\n",
    "В целочисленном массиве A[1..N] на отрезке [L,R] необходимо найти максимальный элемент и его номер.\n",
    "\n",
    "Входные данные.\n",
    "Первая строка входного файла INPUT.TXT содержит натуральное число N – количество элементов в массиве. Во второй строке записаны N целых чисел Ai, разделенные пробелом. Третья строка содержит два натуральных числа L и R, которые задают отрезок поиска [L,R] (-1000 ≤ Ai ≤ 1000, 1 ≤ L ≤ R ≤ N ≤ 1000).\n",
    "\n",
    "Выходные данные.\n",
    "В выходной файл OUTPUT.TXT выведите значение максимального элемента массива на отрезке [L,R] и его индекс. В случае неоднозначности определения индекса следует вывести наименьший из них.\n",
    "\n",
    "INPUT.TXT | OUTPUT.TXT\n",
    "----------- | -----------\n",
    "5 | 7 4\n",
    "1 3 5 7 9  | \n",
    "2 4 |"
   ]
  },
  {
   "cell_type": "code",
   "execution_count": 48,
   "metadata": {},
   "outputs": [
    {
     "name": "stdout",
     "output_type": "stream",
     "text": [
      "7 4\n"
     ]
    }
   ],
   "source": [
    "elements_count = int(input())\n",
    "arr_input = list(map(int, input().split()))\n",
    "bounds = list(map(int, input().split()))\n",
    "\n",
    "lower_bound, upper_bound = bounds[0], bounds[1]\n",
    "\n",
    "max_element = max(arr_input[lower_bound - 1: upper_bound])\n",
    "max_element_index = arr_input.index(max_element) + 1\n",
    "\n",
    "print(max_element, max_element_index)"
   ]
  },
  {
   "cell_type": "markdown",
   "metadata": {},
   "source": [
    "#### №2 Ближайшее число\n",
    "\n",
    "Требуется найти в массиве A[1..N] самый близкий по величине элемент к заданному числу X.\n",
    "\n",
    "Входные данные. \n",
    "Первая строка входного файла INPUT.TXT содержит натуральное число N – количество элементов в массиве. Во второй строке записаны N целых чисел Ai, разделенные пробелом. Третья строка содержит число X. Все числа во входных данных не превосходят 1000 по абсолютной величине.\n",
    "\n",
    "Выходные данные. \n",
    "В выходной файл OUTPUT.TXT выведите значение элемента массива, ближайшее к X. Если таких значений несколько, следует вывести наименьшее среди них.\n",
    "\n",
    "| INPUT.TXT | OUTPUT.TXT\n",
    "|----------- | -----------\n",
    "|5 | 5\n",
    "|1 2 3 4 5 |\n",
    "| 6 |\n",
    "|5 | 3\n",
    "|5 4 3 2 1 |\n",
    "|3\t|\n"
   ]
  },
  {
   "cell_type": "code",
   "execution_count": 5,
   "metadata": {},
   "outputs": [
    {
     "name": "stdout",
     "output_type": "stream",
     "text": [
      "5\n"
     ]
    }
   ],
   "source": [
    "elements_count = int(input())\n",
    "arr_input = list(map(int, input().split()))\n",
    "number = int(input())\n",
    "\n",
    "arr_input_sorted = sorted(arr_input)\n",
    "abs_differences_array = [abs(number - el) for el in arr_input_sorted]\n",
    "nearest_element_index = abs_differences_array.index(min(abs_differences_array))\n",
    "\n",
    "nearest_element = arr_input_sorted[nearest_element_index]\n",
    "\n",
    "print(nearest_element)"
   ]
  }
 ],
 "metadata": {
  "colab": {
   "collapsed_sections": [],
   "name": "5.Итерируемые_объекты_v1.ipynb",
   "provenance": [],
   "toc_visible": true
  },
  "interpreter": {
   "hash": "369f2c481f4da34e4445cda3fffd2e751bd1c4d706f27375911949ba6bb62e1c"
  },
  "kernelspec": {
   "display_name": "Python 3.10.4 64-bit",
   "language": "python",
   "name": "python3"
  },
  "language_info": {
   "codemirror_mode": {
    "name": "ipython",
    "version": 3
   },
   "file_extension": ".py",
   "mimetype": "text/x-python",
   "name": "python",
   "nbconvert_exporter": "python",
   "pygments_lexer": "ipython3",
   "version": "3.10.4"
  }
 },
 "nbformat": 4,
 "nbformat_minor": 1
}
