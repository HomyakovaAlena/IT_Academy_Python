{
 "cells": [
  {
   "cell_type": "markdown",
   "metadata": {
    "id": "0SLkedpVkVmo"
   },
   "source": [
    "# Итерируемые объекты"
   ]
  },
  {
   "cell_type": "markdown",
   "metadata": {},
   "source": [
    "## Множества"
   ]
  },
  {
   "cell_type": "markdown",
   "metadata": {
    "id": "APmEi9MBqWj5"
   },
   "source": [
    "### Задачи для домашней работы\n",
    "\n",
    "****\n",
    "Во входной строке записан текст. Словом считается последовательность непробельных символов идущих подряд, слова разделены одним или большим числом пробелов или символами конца строки. Определите, сколько различных слов содержится в этом тексте.\n",
    "\n",
    "**Входные данные** (пример)\n",
    "\n",
    "```python\n",
    "text = \"\"\"\n",
    "Во входной строке записан текст Словом считается последовательность непробельных символов идущих подряд слова разделены одним или большим числом пробелов или символами конца строки\n",
    "Определите  сколько   различных слов содержится в этом тексте\n",
    "\"\"\"\n",
    "```"
   ]
  },
  {
   "cell_type": "code",
   "execution_count": 18,
   "metadata": {},
   "outputs": [
    {
     "name": "stdout",
     "output_type": "stream",
     "text": [
      "Number of unique words in the string entered: 30\n"
     ]
    }
   ],
   "source": [
    "str = input().strip(\" \\n\").split()\n",
    "unique_words = set(str)\n",
    "print(f'Number of unique words in the string entered: {len(unique_words)}')\n"
   ]
  },
  {
   "cell_type": "markdown",
   "metadata": {},
   "source": [
    "****\n",
    "Даны два списка чисел. Посчитайте, сколько различных чисел содержится одновременно как в первом списке, так и во втором.\n",
    "\n",
    "****\n"
   ]
  },
  {
   "cell_type": "code",
   "execution_count": 23,
   "metadata": {},
   "outputs": [
    {
     "name": "stdout",
     "output_type": "stream",
     "text": [
      "The quantity of unique numbers in the 2 lists entered: 4\n"
     ]
    }
   ],
   "source": [
    "lst1 = list(map(int, input().split()))\n",
    "lst2 = list(map(int, input().split()))\n",
    "unique_numbers = set(lst1) | set(lst2)\n",
    "print(f'The quantity of unique numbers in the 2 lists entered: {len(unique_numbers)}')"
   ]
  },
  {
   "cell_type": "markdown",
   "metadata": {},
   "source": [
    "**Увлечения**\n",
    "\n",
    "В группе учащиеся увлекаются различными видами деятельностями: секция по настолькому теннису, Dota 2, литрбол.\n",
    "\n",
    "Они представлены тремя множествами из строк:\n",
    "\n",
    "```python\n",
    "tennis = {'Evans', 'Stone', 'Roberts', 'Mills', 'Lewis', 'Morgan'}\n",
    "\n",
    "dota = {'Grant', 'Morgan', 'Evans', 'Mills', 'Jackson', 'Bradley',}\n",
    "\n",
    "litrball = {'Grant', 'Morgan', 'Evans', 'Gibson', 'Jackson', 'Barlow', 'Adams'}\n",
    "```\n",
    "\n",
    "Требуется вывести списки учащихся для каждой из 7 следующих групп:\n",
    "- тех, кто интересуется всем;\n",
    "- тех, кто интересуется всем, кроме тенниса;\n",
    "- тех, кто интересуется всем, кроме доты;\n",
    "- тех, кто интересуется всем, кроме литрбола;\n",
    "- тех, кто интересуется только дотой;\n",
    "- тех, кто интересуется только литрболом;\n",
    "- тех, кто интересуется только теннисом;\n",
    "\n",
    "\n",
    "****"
   ]
  },
  {
   "cell_type": "code",
   "execution_count": 80,
   "metadata": {},
   "outputs": [
    {
     "name": "stdout",
     "output_type": "stream",
     "text": [
      "Интересуются всем: Morgan, Evans\n",
      "Интересуются всем, кроме тенниса: Jackson, Grant\n",
      "Интересуются всем, кроме доты: Nobody\n",
      "Интересуются всем, кроме литрболла: Mills\n",
      "Интересуются только дотой: Bradley\n",
      "Интересуются только литрболлом: Gibson, Barlow, Adams\n",
      "Интересуются только теннисом: Roberts, Stone, Lewis\n"
     ]
    }
   ],
   "source": [
    "tennis = {'Evans', 'Stone', 'Roberts', 'Mills', 'Lewis', 'Morgan'}\n",
    "dota = {'Grant', 'Morgan', 'Evans', 'Mills', 'Jackson', 'Bradley', }\n",
    "litrball = {'Grant', 'Morgan', 'Evans', 'Gibson', 'Jackson', 'Barlow', 'Adams'}\n",
    "\n",
    "all_interested = tennis & dota & litrball \n",
    "all_interested_except_tennis = dota & litrball - tennis\n",
    "all_interested_except_dota = tennis & litrball - dota\n",
    "all_interested_except_litrball = tennis & dota - litrball\n",
    "only_dota_interested = dota - tennis - litrball\n",
    "only_litrball_interested = litrball - dota - tennis\n",
    "only_tennis_interested = tennis - dota - litrball\n",
    "\n",
    "print(f'''Интересуются всем: {', '.join(all_interested) or 'Nobody'}\n",
    "Интересуются всем, кроме тенниса: {', '.join(all_interested_except_tennis) or 'Nobody'}\n",
    "Интересуются всем, кроме доты: {', '.join(all_interested_except_dota) or 'Nobody'}\n",
    "Интересуются всем, кроме литрболла: {', '.join(all_interested_except_litrball) or 'Nobody'}\n",
    "Интересуются только дотой: {', '.join(only_dota_interested) or 'Nobody'}\n",
    "Интересуются только литрболлом: {', '.join(only_litrball_interested) or 'Nobody'}\n",
    "Интересуются только теннисом: {', '.join(only_tennis_interested) or 'Nobody'}''')"
   ]
  },
  {
   "cell_type": "markdown",
   "metadata": {
    "id": "Ge9F5bPXq4zM"
   },
   "source": [
    "## Генераторы списков, словарей, множеств"
   ]
  },
  {
   "cell_type": "markdown",
   "metadata": {},
   "source": [
    "### Задачи для домашней работы\n",
    "\n",
    "**Генераторы списков**\n",
    "\n",
    "- Используйте генератор списков чтобы получить следующий: `['xy', 'xz', 'xv', 'yy', 'yz', 'yv']`.\n",
    "\n",
    "- Используйте на предыдущий список slice чтобы получить следующий: `['xy', 'xv', 'yz']`.\n",
    "\n",
    "- Используйте генератор списков чтобы получить следующий `['1x', '2x', '3x', '4x']`.\n",
    "\n",
    "- Одной строкой (и одним выражением) удалите элемент  `'2x'` из прошлого списка и напечатайте его.\n",
    "\n",
    "- Скопируйте список и добавьте в него элемент `2x` так чтобы в исходном списке этого элемента не было.\n",
    "\n",
    "\n"
   ]
  },
  {
   "cell_type": "code",
   "execution_count": 1,
   "metadata": {},
   "outputs": [
    {
     "name": "stdout",
     "output_type": "stream",
     "text": [
      "['xy', 'xz', 'xv', 'yy', 'yz', 'yv']\n",
      "['xy', 'xv', 'yz']\n",
      "['1x', '2x', '3x', '4x']\n",
      "2x\n",
      "['1x', '3x', '4x'] ['1x', '3x', '4x', '2x'] ['1x', '3x', '4x', '2x'] ['1x', '3x', '4x', '2x']\n"
     ]
    }
   ],
   "source": [
    "lst1 = [i + j for i in 'xy' for j in 'yzv']\n",
    "print(lst1)\n",
    "\n",
    "lst_slice = lst1[0::2]\n",
    "print(lst_slice)\n",
    "\n",
    "lst2 = [_ + 'x' for _ in '1234']\n",
    "print(lst2)\n",
    "\n",
    "print(lst2.pop(1))\n",
    "\n",
    "import copy\n",
    "\n",
    "lst2_copy1 = lst2[::]\n",
    "lst2_copy1.append('2x')\n",
    "\n",
    "lst2_copy2 = copy.copy(lst2)\n",
    "lst2_copy2.append('2x')\n",
    "\n",
    "lst2_copy3 = copy.deepcopy(lst2)\n",
    "lst2_copy3.append('2x')\n",
    "\n",
    "print(lst2, lst2_copy1, lst2_copy2, lst2_copy3)"
   ]
  },
  {
   "cell_type": "markdown",
   "metadata": {},
   "source": [
    "**Генераторы словарей**\n",
    "- Создайте словарь с помощью генератора словарей, так чтобы его ключами были числа от `1` до `20`, а значениями кубы этих чисел.\n",
    "\n",
    "****\n",
    "\n"
   ]
  },
  {
   "cell_type": "code",
   "execution_count": 66,
   "metadata": {},
   "outputs": [
    {
     "name": "stdout",
     "output_type": "stream",
     "text": [
      "{1: 1, 2: 8, 3: 27, 4: 64, 5: 125, 6: 216, 7: 343, 8: 512, 9: 729, 10: 1000, 11: 1331, 12: 1728, 13: 2197, 14: 2744, 15: 3375, 16: 4096, 17: 4913, 18: 5832, 19: 6859, 20: 8000}\n"
     ]
    }
   ],
   "source": [
    "dct = {key : key ** 3 for key in range(1, 21)}\n",
    "print(dct)"
   ]
  },
  {
   "cell_type": "markdown",
   "metadata": {},
   "source": [
    "**Генераторы множеств**\n",
    "\n",
    "- Создайте множество с помощью генератора множеств, состоящее из общих делителей чисел 1000 и 9000.\n",
    "\n",
    "\n"
   ]
  },
  {
   "cell_type": "code",
   "execution_count": 68,
   "metadata": {},
   "outputs": [
    {
     "name": "stdout",
     "output_type": "stream",
     "text": [
      "{1, 2, 4, 5, 100, 8, 40, 10, 200, 1000, 50, 20, 500, 25, 250, 125}\n"
     ]
    }
   ],
   "source": [
    "set_1 = {_ for _ in range(1, 1001) if 1000 % _ == 9000 % _ == 0}\n",
    "print(set_1)"
   ]
  },
  {
   "cell_type": "markdown",
   "metadata": {},
   "source": [
    "****\n",
    "\n",
    "Дан текст и некоторый набор стоп слов. Надо извлечь из текста слова, удалив знаки препинания и стоп-слова **в одну строку**.\n",
    "\n",
    "\n",
    "```python\n",
    "text = '''\n",
    "Дан текст и некоторый набор стоп слов. Надо извлечь из текста слова, удалив знаки препинания и стоп-слова.\n",
    "'''\n",
    "\n",
    "stopwords = {\n",
    "    'и', 'из', 'под', 'а', 'о', 'у', 'их',\n",
    "} # их может быть больше\n",
    "\n",
    "words = [] # вот тут решние\n",
    "```\n",
    "\n",
    "****"
   ]
  },
  {
   "cell_type": "markdown",
   "metadata": {},
   "source": [
    "Если итоговый перечень слов должен содержать только уникальные слова:"
   ]
  },
  {
   "cell_type": "code",
   "execution_count": 56,
   "metadata": {},
   "outputs": [
    {
     "name": "stdout",
     "output_type": "stream",
     "text": [
      "['извлечь', 'Дан', 'стоп-слова', 'Надо', 'удалив', 'знаки', 'слова', 'набор', 'текст', 'некоторый', 'текста', 'препинания', 'стоп', 'слов']\n"
     ]
    }
   ],
   "source": [
    "text = \"Дан текст и некоторый набор стоп слов. Надо извлечь из текста слова, удалив знаки препинания и стоп-слова.\"\n",
    "stopwords = {'и', 'из', 'под', 'а', 'о', 'у', 'их'}\n",
    "words = {el.translate({ord(trash): None for trash in '.,:;!&?/{[]}+=_()*^%$#'}) for el in text.split()} - stopwords\n",
    "\n",
    "print(list(words))"
   ]
  },
  {
   "cell_type": "markdown",
   "metadata": {},
   "source": [
    "Если итоговый перечень слов должен содержать все слова за исключением стоп-слов, в т.ч. дубликаты:"
   ]
  },
  {
   "cell_type": "code",
   "execution_count": 22,
   "metadata": {},
   "outputs": [
    {
     "name": "stdout",
     "output_type": "stream",
     "text": [
      "['Дан', 'текст', 'текст', 'некоторый', 'набор', 'стоп', 'слов', 'снова', 'текст', 'снова', 'набор', 'стоп', 'слов', 'Надо', 'извлечь', 'текста', 'слова', 'еще', 'раз', 'извлечь', 'текста', 'слова', 'удалив', 'знаки', 'препинания', 'стоп-слова']\n"
     ]
    }
   ],
   "source": [
    "text = \"Дан текст текст и некоторый набор стоп слов и снова текст, и снова набор стоп слов. Надо извлечь из текста слова и еще раз извлечь из текста слова, удалив знаки препинания и стоп-слова.\"\n",
    "stopwords = {'и', 'из', 'под', 'а', 'о', 'у', 'их'}\n",
    "words = [el.strip('.,-:;!&?/{[]}+=_()*^%$#') for el in text.split() if el not in stopwords]\n",
    "\n",
    "print(words)"
   ]
  },
  {
   "cell_type": "markdown",
   "metadata": {
    "id": "ye5rZ-PbbyLu"
   },
   "source": [
    "## Циклы\n",
    "\n",
    "-  Выведите n-ое число Фибоначчи, используя только временные переменные, циклические операторы и условные операторы. n - вводится.\n",
    "\n"
   ]
  },
  {
   "cell_type": "code",
   "execution_count": 1,
   "metadata": {},
   "outputs": [
    {
     "name": "stdout",
     "output_type": "stream",
     "text": [
      "34\n"
     ]
    }
   ],
   "source": [
    "prev = 0\n",
    "curr = 1\n",
    "n = int(input(\"Enter the number of Fibonachi sequence ( 0 - is the first one)\"))\n",
    "if n <= 1:\n",
    "    print(prev)\n",
    "    exit(0)\n",
    "\n",
    "for i in range (3, n + 1):\n",
    "    prev, curr = curr, prev + curr\n",
    "\n",
    "print(curr)   "
   ]
  },
  {
   "cell_type": "markdown",
   "metadata": {},
   "source": [
    "- Определите, является ли число палиндромом (читается слева направо и справа налево одинаково).  Число положительное целое, произвольной длины. Задача требует работать только с числами (без конвертации числа в строку или что-нибудь еще)."
   ]
  },
  {
   "cell_type": "code",
   "execution_count": 4,
   "metadata": {},
   "outputs": [
    {
     "name": "stdout",
     "output_type": "stream",
     "text": [
      "123321 - палиндром\n"
     ]
    }
   ],
   "source": [
    "number = int(input('Enter a positive integer: '))\n",
    "\n",
    "number_reversed = number % 10\n",
    "number_reduced = number // 10\n",
    "\n",
    "while number_reduced:\n",
    "    number_reversed = number_reversed * 10 + number_reduced % 10\n",
    "    number_reduced = number_reduced // 10\n",
    "\n",
    "print(f'{number} - палиндром') if number == number_reversed else print(f'{number} - не палиндром')"
   ]
  },
  {
   "cell_type": "markdown",
   "metadata": {},
   "source": [
    "немного ускорить алгоритм - бегаем по циклу только до середины числа + сразу заканчиваем программу, если на ранних порядках видно, что не палиндром"
   ]
  },
  {
   "cell_type": "code",
   "execution_count": 14,
   "metadata": {},
   "outputs": [
    {
     "name": "stdout",
     "output_type": "stream",
     "text": [
      "12345678987654321 - палиндром\n"
     ]
    }
   ],
   "source": [
    "import math\n",
    "number = int(input('Enter a positive integer: '))\n",
    "\n",
    "order = math.floor(math.log(number, 10))\n",
    "number_reduced = number\n",
    "devisor = order\n",
    "\n",
    "while devisor >= 0:\n",
    "    left = number_reduced // (10 ** devisor)\n",
    "    right = number_reduced % 10\n",
    "    \n",
    "    if left != right:\n",
    "        print(f'{number} - не палиндром')\n",
    "        exit(0)\n",
    "    \n",
    "    number_reduced = number_reduced % (10 ** devisor) // 10\n",
    "    devisor -= 2\n",
    "\n",
    "print(f'{number} - палиндром')\n",
    "\n"
   ]
  },
  {
   "cell_type": "markdown",
   "metadata": {},
   "source": [
    "\n",
    "- Напишите программу, которая печатает цифры от 1 до 100, но вместо чисел, кратных 3 пишет Fizz, вместо чисел кратный 5 пишет Buzz, а вместо чисел одновременно кратных и 3 и 5 - FizzBuzz."
   ]
  },
  {
   "cell_type": "code",
   "execution_count": 23,
   "metadata": {},
   "outputs": [
    {
     "name": "stdout",
     "output_type": "stream",
     "text": [
      "1 2 Fizz 4 Buzz Fizz 7 8 Fizz Buzz 11 Fizz 13 14 FizzBuzz 16 17 Fizz 19 Buzz Fizz 22 23 Fizz Buzz 26 Fizz 28 29 FizzBuzz 31 32 Fizz 34 Buzz Fizz 37 38 Fizz Buzz 41 Fizz 43 44 FizzBuzz 46 47 Fizz 49 Buzz Fizz 52 53 Fizz Buzz 56 Fizz 58 59 FizzBuzz 61 62 Fizz 64 Buzz Fizz 67 68 Fizz Buzz 71 Fizz 73 74 FizzBuzz 76 77 Fizz 79 Buzz Fizz 82 83 Fizz Buzz 86 Fizz 88 89 FizzBuzz 91 92 Fizz 94 Buzz Fizz 97 98 Fizz Buzz\n"
     ]
    }
   ],
   "source": [
    "lst = []\n",
    "for i in range(1, 101):\n",
    "    if i % 3 == i % 5 == 0:\n",
    "        lst.append('FizzBuzz')\n",
    "    elif i % 3 == 0:\n",
    "        lst.append('Fizz')\n",
    "    elif i % 5 == 0:\n",
    "        lst.append('Buzz')\n",
    "    else:\n",
    "        lst.append(i)\n",
    "    \n",
    "print(*lst)"
   ]
  },
  {
   "cell_type": "markdown",
   "metadata": {},
   "source": [
    "**Города и страны**\n",
    "\n",
    "Заданы *N* стран, включающие в себя города. Заданы *Q* запросов. Каждый запрос - название города, на который нужно вывести страну, к которому он относится (если относится).\n",
    "\n",
    "**Формат ввода:**\n",
    "\n",
    "В первой строки число *N* - количество стран\n",
    "\n",
    "Далее по порядку задаются страны одна за другой, каждая в следующем формате:\n",
    "\n",
    "В отдельной строке число *K* - количество городов в стране.\n",
    "\n",
    "В следующих *K* строках по одному городу (город может состоять из нескольких слов)\n",
    "\n",
    "После ввода городов задаётся *Q* - число запросов.\n",
    "\n",
    "В следующих *Q* строках задаются города (их может и не существовать).\n",
    "\n",
    "**Input**\n",
    "\n",
    "```\n",
    "3\n",
    "United States of America\n",
    "6\n",
    "New York\n",
    "San Francisco \n",
    "Mayami\n",
    "Chicago\n",
    "Saint Petersburg\n",
    "New Orleans\n",
    "Belarus\n",
    "2\n",
    "Minsk\n",
    "Grodno\n",
    "Russia\n",
    "3\n",
    "Moscow\n",
    "Saint Petersburg\n",
    "Smolensk\n",
    "4\n",
    "Minsk\n",
    "Chicago\n",
    "Saint Petersburg\n",
    "Smolensk\n",
    "```\n",
    "\n",
    "**Output**\n",
    "\n",
    "```\n",
    "Belarus\n",
    "United States of America\n",
    "['Russia', 'United States of America']\n",
    "Russia\n",
    "```\n",
    "\n",
    "Да, может быть и такое, что в двух странах могут находиться разные города с одинаковым названием. Реализация этого функционала - план максимум, на десяточку.\n",
    "\n",
    "И да, `dict` вам в помощь"
   ]
  },
  {
   "cell_type": "code",
   "execution_count": 46,
   "metadata": {},
   "outputs": [
    {
     "name": "stdout",
     "output_type": "stream",
     "text": [
      "Belarus\n",
      "United States of America\n",
      "['United States of America', 'Russia']\n",
      "Russia\n"
     ]
    }
   ],
   "source": [
    "countries_count = int(input('Enter the number of countries:'))\n",
    "dct = {}\n",
    "countries = []\n",
    "towns = []\n",
    "queries = []\n",
    "\n",
    "for i in range(countries_count):\n",
    "    countries.append(input('Enter the country'))\n",
    "    towns_count = int(input('Enter the number of towns:'))\n",
    "    \n",
    "    for j in range(towns_count):\n",
    "        new_town = input('Enter the town')\n",
    "        towns.append(new_town)\n",
    "        if new_town not in dct:\n",
    "            dct[new_town] = countries[i]\n",
    "        else:\n",
    "            dct[new_town] = list((dct.get(new_town), countries[i]))\n",
    "\n",
    "queries_count = int(input('Enter the number of queries'))\n",
    "\n",
    "for _ in range(queries_count):\n",
    "    queries.append(input('Enter the town'))\n",
    "    print(dct.get(queries[_]))"
   ]
  },
  {
   "cell_type": "markdown",
   "metadata": {},
   "source": [
    "Если желаете прокачаться на циклах и списках, то (как всегда по желанию):\n",
    "\n",
    "[Монетки](https://acmp.ru/asp/do/index.asp?main=task&id_course=1&id_section=3&id_topic=33&id_problem=190),\n",
    "[Арбузы](https://acmp.ru/asp/do/index.asp?main=task&id_course=1&id_section=3&id_topic=33&id_problem=191),\n",
    "[Конечные автоматы](https://acmp.ru/asp/do/index.asp?main=task&id_course=1&id_section=3&id_topic=33&id_problem=192),\n",
    "[Автобусная экскурсия](https://acmp.ru/asp/do/index.asp?main=task&id_course=1&id_section=3&id_topic=33&id_problem=193),\n",
    "[Загадка](https://acmp.ru/asp/do/index.asp?main=task&id_course=1&id_section=3&id_topic=33&id_problem=195),\n",
    "[Сумма](https://acmp.ru/asp/do/index.asp?main=task&id_course=1&id_section=3&id_topic=33&id_problem=197),\n",
    "[Оттепель](https://acmp.ru/asp/do/index.asp?main=task&id_course=1&id_section=3&id_topic=33&id_problem=203),\n",
    "[Список квадратов](https://acmp.ru/asp/do/index.asp?main=task&id_course=1&id_section=3&id_topic=34&id_problem=204),\n",
    "[Минимальный делитель](https://acmp.ru/asp/do/index.asp?main=task&id_course=1&id_section=3&id_topic=34&id_problem=205),\n",
    "[Список степеней двойки](https://acmp.ru/asp/do/index.asp?main=task&id_course=1&id_section=3&id_topic=34&id_problem=206),\n",
    "[Числа Фибоначчи](https://acmp.ru/asp/do/index.asp?main=task&id_course=1&id_section=3&id_topic=34&id_problem=208),\n",
    "[Числа Фибоначчи 2](https://acmp.ru/asp/do/index.asp?main=task&id_course=1&id_section=3&id_topic=34&id_problem=209),\n",
    "[Банковские проценты](https://acmp.ru/asp/do/index.asp?main=task&id_course=1&id_section=3&id_topic=34&id_problem=210),\n",
    "[Линейный поиск](https://acmp.ru/asp/do/index.asp?main=task&id_course=1&id_section=5&id_topic=113&id_problem=691),\n",
    "[Максимальный элемент](https://acmp.ru/asp/do/index.asp?main=task&id_course=1&id_section=5&id_topic=113&id_problem=693),\n",
    "[Сбор черники](https://acmp.ru/asp/do/index.asp?main=task&id_course=1&id_section=5&id_topic=113&id_problem=695),\n",
    "[Ближайшее число](https://acmp.ru/asp/do/index.asp?main=task&id_course=1&id_section=5&id_topic=113&id_problem=692)\n",
    "\n",
    "Если в задаче надо ввести *N* чисел (например) одной строкой через пробел, то пишем\n",
    "\n",
    "```python\n",
    "arr = list(map(int, input().split()))\n",
    "```"
   ]
  },
  {
   "cell_type": "markdown",
   "metadata": {},
   "source": [
    "[Монетки](https://acmp.ru/asp/do/index.asp?main=task&id_course=1&id_section=3&id_topic=33&id_problem=190)"
   ]
  },
  {
   "cell_type": "code",
   "execution_count": 61,
   "metadata": {},
   "outputs": [
    {
     "name": "stdout",
     "output_type": "stream",
     "text": [
      "2\n"
     ]
    }
   ],
   "source": [
    "coins_number = int(input('Enter the number of coins:'))\n",
    "arr = []\n",
    "for i in range(coins_number):\n",
    "    new_coin = int(input('Enter 1 for heads and 0 for tails:'))\n",
    "    arr.append(new_coin)\n",
    "heads_number = arr.count(1)\n",
    "tails_number = arr.count(0)\n",
    "print(min(heads_number, tails_number))"
   ]
  },
  {
   "cell_type": "markdown",
   "metadata": {},
   "source": [
    "[Арбузы](https://acmp.ru/asp/do/index.asp?main=task&id_course=1&id_section=3&id_topic=33&id_problem=191)"
   ]
  },
  {
   "cell_type": "code",
   "execution_count": 62,
   "metadata": {},
   "outputs": [
    {
     "name": "stdout",
     "output_type": "stream",
     "text": [
      "1\n"
     ]
    }
   ],
   "source": [
    "watermelon_number = int(input())\n",
    "arr = list(map(int, input().split()))\n",
    "print(min(arr), max(arr))"
   ]
  },
  {
   "cell_type": "markdown",
   "metadata": {},
   "source": [
    "[Конечные автоматы](https://acmp.ru/asp/do/index.asp?main=task&id_course=1&id_section=3&id_topic=33&id_problem=192)"
   ]
  },
  {
   "cell_type": "code",
   "execution_count": 65,
   "metadata": {},
   "outputs": [
    {
     "name": "stdout",
     "output_type": "stream",
     "text": [
      "44344\n",
      "48134\n",
      "45699\n",
      "49458\n"
     ]
    }
   ],
   "source": [
    "number = int(input())\n",
    "for i in range(number):\n",
    "    new_state_machine_arr = list(map(int, input().split()))\n",
    "    nontriviality = 19* new_state_machine_arr[1] + (new_state_machine_arr[0] + 239)*(new_state_machine_arr[0] + 366) / 2\n",
    "    print(int(nontriviality))\n"
   ]
  },
  {
   "cell_type": "markdown",
   "metadata": {},
   "source": [
    "[Автобусная экскурсия](https://acmp.ru/asp/do/index.asp?main=task&id_course=1&id_section=3&id_topic=33&id_problem=193)"
   ]
  },
  {
   "cell_type": "code",
   "execution_count": 76,
   "metadata": {},
   "outputs": [
    {
     "name": "stdout",
     "output_type": "stream",
     "text": [
      "Crash 1\n"
     ]
    }
   ],
   "source": [
    "bridges_number = int(input())\n",
    "bridges_arr = list(map(int, input().split()))\n",
    "print('No crash') if min(bridges_arr) > 437 else print('Crash', min([bridges_arr.index(i) for i in bridges_arr if i <= 437]) + 1)\n"
   ]
  },
  {
   "cell_type": "markdown",
   "metadata": {},
   "source": [
    "[Загадка](https://acmp.ru/asp/do/index.asp?main=task&id_course=1&id_section=3&id_topic=33&id_problem=195)"
   ]
  },
  {
   "cell_type": "code",
   "execution_count": 78,
   "metadata": {},
   "outputs": [
    {
     "name": "stdout",
     "output_type": "stream",
     "text": [
      "2 3\n"
     ]
    }
   ],
   "source": [
    "import math\n",
    "operations_results_arr = list(map(int, input().split()))\n",
    "numbers_sum = operations_results_arr[0]\n",
    "numbers_product = operations_results_arr[1]\n",
    "number1 = (numbers_sum + math.sqrt(math.pow(numbers_sum, 2) - 4 * numbers_product)) / 2\n",
    "number2 = (numbers_sum -\n",
    "           math.sqrt(math.pow(numbers_sum, 2) - 4 * numbers_product)) / 2\n",
    "print(int(min(number1, number2)), int(max(number1, number2)))"
   ]
  },
  {
   "cell_type": "markdown",
   "metadata": {},
   "source": [
    "[Сумма](https://acmp.ru/asp/do/index.asp?main=task&id_course=1&id_section=3&id_topic=33&id_problem=197)"
   ]
  },
  {
   "cell_type": "code",
   "execution_count": 104,
   "metadata": {},
   "outputs": [
    {
     "name": "stdout",
     "output_type": "stream",
     "text": [
      "-14\n"
     ]
    }
   ],
   "source": [
    "n = int(input())\n",
    "acc = 0\n",
    "for i in range(min(n, 1), max(2, n + 1)):\n",
    "    acc += i\n",
    "print(int(acc))"
   ]
  },
  {
   "cell_type": "markdown",
   "metadata": {},
   "source": [
    "[Оттепель](https://acmp.ru/asp/do/index.asp?main=task&id_course=1&id_section=3&id_topic=33&id_problem=203)"
   ]
  },
  {
   "cell_type": "code",
   "execution_count": 2,
   "metadata": {},
   "outputs": [
    {
     "name": "stdout",
     "output_type": "stream",
     "text": [
      "2\n"
     ]
    }
   ],
   "source": [
    "n = int(input())\n",
    "temp_arr = list(map(int, input().split()))\n",
    "\n",
    "count = 1\n",
    "result_arr = []\n",
    "\n",
    "if max(temp_arr) <= 0:\n",
    "    print(0)\n",
    "else:\n",
    "    for i in range(1, n):\n",
    "        if temp_arr[i] > 0 and temp_arr[i - 1] > 0:\n",
    "            count += 1\n",
    "        if temp_arr[i] <= 0:\n",
    "            result_arr.append(count)\n",
    "            count = 1\n",
    "    print(max(result_arr))\n"
   ]
  },
  {
   "cell_type": "markdown",
   "metadata": {},
   "source": [
    "[Список квадратов](https://acmp.ru/asp/do/index.asp?main=task&id_course=1&id_section=3&id_topic=34&id_problem=204)"
   ]
  },
  {
   "cell_type": "code",
   "execution_count": 32,
   "metadata": {},
   "outputs": [
    {
     "name": "stdout",
     "output_type": "stream",
     "text": [
      "1 4 9 16 25 36 49 64 81 100\n"
     ]
    }
   ],
   "source": [
    "import math\n",
    "num = int(input())\n",
    "print(*list(map(lambda x: x ** 2 , list(range(1, int((math.sqrt(num) + 1)))))))"
   ]
  },
  {
   "cell_type": "code",
   "execution_count": 38,
   "metadata": {},
   "outputs": [
    {
     "name": "stdout",
     "output_type": "stream",
     "text": [
      "1 4 9 16 25 36 49 64 81 100\n"
     ]
    }
   ],
   "source": [
    "import math\n",
    "num = int(input())\n",
    "print(*[int(math.pow(i, 2)) for i in range(1, int((math.sqrt(num) + 1)))])"
   ]
  },
  {
   "cell_type": "markdown",
   "metadata": {},
   "source": [
    "[Минимальный делитель](https://acmp.ru/asp/do/index.asp?main=task&id_course=1&id_section=3&id_topic=34&id_problem=205)"
   ]
  },
  {
   "cell_type": "code",
   "execution_count": 36,
   "metadata": {},
   "outputs": [
    {
     "name": "stdout",
     "output_type": "stream",
     "text": [
      "3\n"
     ]
    }
   ],
   "source": [
    "num = int(input())\n",
    "for i in range(2, num + 1):\n",
    "    if num % i == 0:\n",
    "        print(i)\n",
    "        break\n"
   ]
  },
  {
   "cell_type": "markdown",
   "metadata": {},
   "source": [
    "[Список степеней двойки](https://acmp.ru/asp/do/index.asp?main=task&id_course=1&id_section=3&id_topic=34&id_problem=206)"
   ]
  },
  {
   "cell_type": "code",
   "execution_count": 47,
   "metadata": {},
   "outputs": [
    {
     "name": "stdout",
     "output_type": "stream",
     "text": [
      "1 2 4 8 16 32 64 128 256 512\n"
     ]
    }
   ],
   "source": [
    "import math\n",
    "num = int(input())\n",
    "print(*list(map(lambda x: 2 ** x , list(range(int((math.log(num, 2) + 1)))))))"
   ]
  },
  {
   "cell_type": "code",
   "execution_count": 45,
   "metadata": {},
   "outputs": [
    {
     "name": "stdout",
     "output_type": "stream",
     "text": [
      "1 2 4 8 16 32 64 128 256 512\n"
     ]
    }
   ],
   "source": [
    "import math\n",
    "num = int(input())\n",
    "print(*[int(math.pow(2, i)) for i in range(int((math.log(num, 2)) + 1))])"
   ]
  },
  {
   "cell_type": "markdown",
   "metadata": {},
   "source": [
    "[Числа Фибоначчи](https://acmp.ru/asp/do/index.asp?main=task&id_course=1&id_section=3&id_topic=34&id_problem=208)"
   ]
  },
  {
   "cell_type": "code",
   "execution_count": 50,
   "metadata": {},
   "outputs": [
    {
     "name": "stdout",
     "output_type": "stream",
     "text": [
      "0\n",
      "1\n"
     ]
    }
   ],
   "source": [
    "num = int(input())\n",
    "prev, cur = 0, 1\n",
    "if num <= 1:\n",
    "    print(num)\n",
    "else:\n",
    "    for i in range(2, num + 1):\n",
    "        prev, cur = cur, prev + cur\n",
    "    print(cur)"
   ]
  },
  {
   "cell_type": "markdown",
   "metadata": {},
   "source": [
    "[Числа Фибоначчи 2](https://acmp.ru/asp/do/index.asp?main=task&id_course=1&id_section=3&id_topic=34&id_problem=209)"
   ]
  },
  {
   "cell_type": "code",
   "execution_count": 64,
   "metadata": {},
   "outputs": [
    {
     "name": "stdout",
     "output_type": "stream",
     "text": [
      "1\n",
      "6\n"
     ]
    }
   ],
   "source": [
    "num = int(input())\n",
    "prev, cur = 1, 1\n",
    "count = 2\n",
    "flag = 1\n",
    "if num == 1:\n",
    "    print(1, cur, sep='\\n')\n",
    "    flag = 0\n",
    "else:\n",
    "    while cur <= num:\n",
    "        prev, cur = cur, prev + cur\n",
    "        count += 1\n",
    "        if num == cur:\n",
    "            print(1, count, sep = '\\n')\n",
    "            flag = 0\n",
    "            break\n",
    "if flag:\n",
    "    print(0)     "
   ]
  },
  {
   "cell_type": "markdown",
   "metadata": {},
   "source": [
    "[Банковские проценты](https://acmp.ru/asp/do/index.asp?main=task&id_course=1&id_section=3&id_topic=34&id_problem=210)"
   ]
  },
  {
   "cell_type": "code",
   "execution_count": 68,
   "metadata": {},
   "outputs": [
    {
     "name": "stdout",
     "output_type": "stream",
     "text": [
      "8\n"
     ]
    }
   ],
   "source": [
    "import math\n",
    "arr = list(map(int, input().split()))\n",
    "count = 0\n",
    "deposit = arr[0]\n",
    "interest_rate = arr[1]\n",
    "min_deposit = arr[2]\n",
    "while deposit < min_deposit:\n",
    "    deposit = math.trunc((deposit * (1 + interest_rate / 100)) * 100) / 100\n",
    "    count += 1\n",
    "\n",
    "print(count)"
   ]
  },
  {
   "cell_type": "markdown",
   "metadata": {},
   "source": [
    "[Линейный поиск](https://acmp.ru/asp/do/index.asp?main=task&id_course=1&id_section=5&id_topic=113&id_problem=691)"
   ]
  },
  {
   "cell_type": "code",
   "execution_count": 69,
   "metadata": {},
   "outputs": [
    {
     "name": "stdout",
     "output_type": "stream",
     "text": [
      "3\n"
     ]
    }
   ],
   "source": [
    "num = int(input())\n",
    "arr = list(map(int, input().split()))\n",
    "x = int(input())\n",
    "print(arr.count(x))\n"
   ]
  },
  {
   "cell_type": "markdown",
   "metadata": {},
   "source": [
    "[Максимальный элемент](https://acmp.ru/asp/do/index.asp?main=task&id_course=1&id_section=5&id_topic=113&id_problem=693)"
   ]
  },
  {
   "cell_type": "code",
   "execution_count": 72,
   "metadata": {},
   "outputs": [
    {
     "name": "stdout",
     "output_type": "stream",
     "text": [
      "7 4\n"
     ]
    }
   ],
   "source": [
    "elements_count = int(input())\n",
    "arr_input = list(map(int, input().split()))\n",
    "bounds = list(map(int, input().split()))\n",
    "\n",
    "lower_bound, upper_bound = bounds[0], bounds[1]\n",
    "\n",
    "max_element = max(arr_input[lower_bound - 1: upper_bound])\n",
    "max_element_index = arr_input[lower_bound -\n",
    "                              1: upper_bound].index(max_element) + lower_bound\n",
    "\n",
    "print(max_element, max_element_index)\n"
   ]
  },
  {
   "cell_type": "markdown",
   "metadata": {},
   "source": [
    "[Сбор черники](https://acmp.ru/asp/do/index.asp?main=task&id_course=1&id_section=5&id_topic=113&id_problem=695)"
   ]
  },
  {
   "cell_type": "code",
   "execution_count": 74,
   "metadata": {},
   "outputs": [
    {
     "name": "stdout",
     "output_type": "stream",
     "text": [
      "9\n"
     ]
    }
   ],
   "source": [
    "elements_count = int(input())\n",
    "arr = list(map(int, input().split()))\n",
    "result_arr = []\n",
    "for i in range(len(arr)):\n",
    "    result_arr.append(arr[i-2] + arr[i-1] + arr[i])\n",
    "print(max(result_arr))"
   ]
  },
  {
   "cell_type": "markdown",
   "metadata": {},
   "source": [
    "[Ближайшее число](https://acmp.ru/asp/do/index.asp?main=task&id_course=1&id_section=5&id_topic=113&id_problem=692)"
   ]
  },
  {
   "cell_type": "code",
   "execution_count": 75,
   "metadata": {},
   "outputs": [
    {
     "name": "stdout",
     "output_type": "stream",
     "text": [
      "3\n"
     ]
    }
   ],
   "source": [
    "elements_count = int(input())\n",
    "arr_input = list(map(int, input().split()))\n",
    "number = int(input())\n",
    "\n",
    "arr_input_sorted = sorted(arr_input)\n",
    "abs_differences_array = [abs(number - el) for el in arr_input_sorted]\n",
    "nearest_element_index = abs_differences_array.index(min(abs_differences_array))\n",
    "\n",
    "nearest_element = arr_input_sorted[nearest_element_index]\n",
    "\n",
    "print(nearest_element)"
   ]
  }
 ],
 "metadata": {
  "colab": {
   "collapsed_sections": [],
   "name": "5.Итерируемые_объекты_v1.ipynb",
   "provenance": [],
   "toc_visible": true
  },
  "interpreter": {
   "hash": "369f2c481f4da34e4445cda3fffd2e751bd1c4d706f27375911949ba6bb62e1c"
  },
  "kernelspec": {
   "display_name": "Python 3.10.4 64-bit",
   "language": "python",
   "name": "python3"
  },
  "language_info": {
   "codemirror_mode": {
    "name": "ipython",
    "version": 3
   },
   "file_extension": ".py",
   "mimetype": "text/x-python",
   "name": "python",
   "nbconvert_exporter": "python",
   "pygments_lexer": "ipython3",
   "version": "3.10.4"
  }
 },
 "nbformat": 4,
 "nbformat_minor": 1
}
