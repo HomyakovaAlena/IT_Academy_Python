{
 "cells": [
  {
   "cell_type": "markdown",
   "metadata": {},
   "source": [
    "## 1. Сумма цифр\n",
    "\n",
    "Дано: целое число.\n",
    "\n",
    "Требуется: найти сумму цифр этого числа при условии, что оно одно/дву/трех-значное, в противном случае вывести информацию об ошибке данных\n",
    "\n",
    "**Пример 1**:\n",
    "\n",
    "input:\n",
    "\n",
    "\n",
    "`-123`\n",
    "\n",
    "output:\n",
    "\n",
    "`6`\n",
    "\n",
    "\n",
    "\n",
    "**Пример 2**:\n",
    "\n",
    "input:\n",
    "\n",
    "`48`\n",
    "\n",
    "output:\n",
    "\n",
    "`12`"
   ]
  },
  {
   "cell_type": "markdown",
   "metadata": {},
   "source": [
    "##### Вариант через тернарный оператор с итератором по строке:"
   ]
  },
  {
   "cell_type": "code",
   "execution_count": 84,
   "metadata": {},
   "outputs": [
    {
     "name": "stdout",
     "output_type": "stream",
     "text": [
      "15\n"
     ]
    }
   ],
   "source": [
    "number = input('Enter an integer:')\n",
    "print('Incorrect data') if not number.isdigit() or len(number) > 3 else print(sum(int(digit) for digit in number))"
   ]
  },
  {
   "cell_type": "markdown",
   "metadata": {},
   "source": [
    "##### Вариант через арифметические операторы:"
   ]
  },
  {
   "cell_type": "code",
   "execution_count": 77,
   "metadata": {},
   "outputs": [
    {
     "name": "stdout",
     "output_type": "stream",
     "text": [
      "7\n"
     ]
    }
   ],
   "source": [
    "string = input('Enter an integer:')\n",
    "\n",
    "if string.isdigit() == False or int(string) // 1000 != 0:\n",
    "    print('Incorrect data')\n",
    "else:  \n",
    "    number = int(string)\n",
    "    print(number // 100 + number // 10 % 10 + number % 10)"
   ]
  },
  {
   "cell_type": "markdown",
   "metadata": {},
   "source": [
    "##### Вариант с обработкой ошибок при вводе не int числа:"
   ]
  },
  {
   "cell_type": "code",
   "execution_count": 87,
   "metadata": {},
   "outputs": [
    {
     "name": "stdout",
     "output_type": "stream",
     "text": [
      "20\n"
     ]
    }
   ],
   "source": [
    "try:\n",
    "    number = int(input('Enter an integer:'))\n",
    "except:\n",
    "    print('Incorrect data')\n",
    "\n",
    "print(number // 100 + number // 10 % 10 + number % 10) if number // 1000 == 0 else print('Incorrect data')"
   ]
  },
  {
   "cell_type": "markdown",
   "metadata": {
    "id": "d0yOSp9Gynsq"
   },
   "source": [
    "## 2. Площадь треугольника\n",
    "\n",
    "Даны: три стороны треугольника.\n",
    "\n",
    "Требуется: проверить, действительно ли это стороны треугольника. \n",
    "Если стороны определяют треугольник, найти его площадь. \n",
    "Если нет, вывести сообщение о неверных данных.\n",
    "\n",
    "**Пример 1**:\n",
    "\n",
    "input:\n",
    "\n",
    "`3 4 5`\n",
    "\n",
    "output:\n",
    "\n",
    "`6`\n",
    "\n",
    "\n",
    "\n",
    "**Пример 2**:\n",
    "\n",
    "input:\n",
    "\n",
    "`5 1 1`\n",
    "\n",
    "output:\n",
    "\n",
    "`Wrong input data`"
   ]
  },
  {
   "cell_type": "markdown",
   "metadata": {},
   "source": [
    "##### Формула Гордона:\n",
    "$$ p = \\sqrt{p * (p - a) * (p - b) * (p - c)} $$"
   ]
  },
  {
   "cell_type": "code",
   "execution_count": 104,
   "metadata": {},
   "outputs": [
    {
     "name": "stdout",
     "output_type": "stream",
     "text": [
      "The area of triangle: 6.00 sq.cm\n"
     ]
    }
   ],
   "source": [
    "a = float(input('Enter the first side of triangle in sentimetres'))\n",
    "b = float(input('Enter the second side of triangle in sentimetres'))\n",
    "c = float(input('Enter the third side of triangle in sentimetres'))\n",
    "\n",
    "if a <= 0 or b <= 0 or c <= 0 or a + b <= c or b + c <= a or a + c <= b:\n",
    "    print('Incorrect data')\n",
    "else:\n",
    "    semiperimeter = (a + b + c) / 2\n",
    "    area = (semiperimeter * (semiperimeter - a) * (semiperimeter - b) * (semiperimeter - c)) ** 0.5\n",
    "    print(f'The area of triangle: {area:.2f} sq.cm')"
   ]
  },
  {
   "cell_type": "markdown",
   "metadata": {},
   "source": [
    "Упростила проверку 3 последних условий:"
   ]
  },
  {
   "cell_type": "code",
   "execution_count": 106,
   "metadata": {},
   "outputs": [
    {
     "name": "stdout",
     "output_type": "stream",
     "text": [
      "The area of triangle: 362.60 sq.cm\n"
     ]
    }
   ],
   "source": [
    "a = float(input('Enter the first side of triangle in sentimetres'))\n",
    "b = float(input('Enter the second side of triangle in sentimetres'))\n",
    "c = float(input('Enter the third side of triangle in sentimetres'))\n",
    "\n",
    "if a <= 0 or b <= 0 or c <= 0 or 2 * max(a, b, c) >= (a + b + c):\n",
    "    print('Incorrect data')\n",
    "else:\n",
    "    semiperimeter = (a + b + c) / 2\n",
    "    area = (semiperimeter * (semiperimeter - a) *\n",
    "            (semiperimeter - b) * (semiperimeter - c)) ** 0.5\n",
    "    print(f'The area of triangle: {area:.2f} sq.cm')"
   ]
  },
  {
   "cell_type": "markdown",
   "metadata": {},
   "source": [
    "## 3. Четырехзначный палиндром\n",
    "(Время: 1 сек. Память: 16 Мб Сложность: 10 %)<br>\n",
    "Требуется написать программу, определяющую, является ли четырехзначное натуральное число N палиндромом, т.е. числом, которое одинаково читается слева направо и справа налево.\n",
    "\n",
    "##### Входные данные\n",
    "Входной файл INPUT.TXT содержит натуральное число N(1000 ≤ N ≤ 9999).\n",
    "\n",
    "##### Выходные данные\n",
    "В выходной файл OUTPUT.TXT следует вывести слово «YES», если число N является палиндромом, или «NO» – если нет.\n",
    "\n",
    "Примеры\n",
    "INPUT.TXT | OUTPUT.TXT\n",
    "-------- | --------\n",
    "6116 | YES\n",
    "1231  |  NO"
   ]
  },
  {
   "cell_type": "markdown",
   "metadata": {},
   "source": [
    "#### Вариант с арифметическими операторами"
   ]
  },
  {
   "cell_type": "code",
   "execution_count": 44,
   "metadata": {},
   "outputs": [],
   "source": [
    "with open('input.txt', 'r') as input_data:\n",
    "    number = int(input_data.readline())\n",
    "\n",
    "if number // 10000 != 0 or number // 1000 == 0:\n",
    "    print('Incorrect data')\n",
    "\n",
    "digit_1 = int(number) // 1000\n",
    "digit_2 = int(number) // 100 % 10\n",
    "digit_3 = int(number) // 10 % 10\n",
    "digit_4 = int(number) % 10\n",
    "\n",
    "with open(\"output.txt\", \"w\") as output_data:\n",
    "    print('Yes', file = output_data) if digit_1 == digit_4 and digit_2 == digit_3 else print(\n",
    "        'No', file = output_data)"
   ]
  },
  {
   "cell_type": "markdown",
   "metadata": {},
   "source": [
    "#### Вариант со строками"
   ]
  },
  {
   "cell_type": "code",
   "execution_count": 68,
   "metadata": {},
   "outputs": [],
   "source": [
    "with open('input.txt', 'r') as input_data:\n",
    "    string_input = input_data.readline().rstrip()\n",
    "\n",
    "if len(string_input) == 4 and string_input.isdigit():\n",
    "    with open(\"output.txt\", \"w\") as output_data:\n",
    "        print('Yes', file=output_data) if string_input == string_input[::-1] else print(\n",
    "        'No', file=output_data)"
   ]
  },
  {
   "cell_type": "markdown",
   "metadata": {},
   "source": [
    "## 4. Клетки\n",
    "(Время: 1 сек. Память: 16 Мб Сложность: 15%) <br>\n",
    "Известно, что шахматная доска имеет размерность 8х8 и состоит из клеток двух цветов, например, черного и белого. Каждая клетка имеет координату, состоящую из буквы и цифры. Горизонтальное расположение клетки определяется буквой от A до H, а вертикальное – цифрой от 1 до 8. Заметим, что клетка с координатой А1 имеет черный цвет. Требуется по заданной координате определить цвет клетки.\n",
    "\n",
    "Входные данные <br>\n",
    "В единственной строке входного файла INPUT.TXT записана координата клетки на шахматной доске: всего два символа – буква и цифра (без пробелов).\n",
    "\n",
    "Выходные данные <br>\n",
    "В выходной файл OUTPUT.TXT нужно вывести «WHITE», если указанная клетка имеет белый цвет и «BLACK», если она черная.\n",
    "\n",
    "Примеры\n",
    "№\t| INPUT.TXT |\tOUTPUT.TXT\n",
    "------|------|------\n",
    "1\t| C3 |\tBLACK\n",
    "2\t| G8 |\tWHITE"
   ]
  },
  {
   "cell_type": "markdown",
   "metadata": {},
   "source": [
    "Вариант через вхождение в строку (assumption: данные корректны)"
   ]
  },
  {
   "cell_type": "code",
   "execution_count": 73,
   "metadata": {},
   "outputs": [
    {
     "name": "stdout",
     "output_type": "stream",
     "text": [
      "WHITE\n"
     ]
    }
   ],
   "source": [
    "square = input('Enter square:')\n",
    "print('BLACK') if square[0] in 'ACEG' and square[1] in '1357' else print('WHITE')"
   ]
  }
 ],
 "metadata": {
  "interpreter": {
   "hash": "369f2c481f4da34e4445cda3fffd2e751bd1c4d706f27375911949ba6bb62e1c"
  },
  "kernelspec": {
   "display_name": "Python 3 (ipykernel)",
   "language": "python",
   "name": "python3"
  },
  "language_info": {
   "codemirror_mode": {
    "name": "ipython",
    "version": 3
   },
   "file_extension": ".py",
   "mimetype": "text/x-python",
   "name": "python",
   "nbconvert_exporter": "python",
   "pygments_lexer": "ipython3",
   "version": "3.10.4"
  }
 },
 "nbformat": 4,
 "nbformat_minor": 2
}
