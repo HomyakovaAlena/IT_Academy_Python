{
 "cells": [
  {
   "cell_type": "markdown",
   "metadata": {
    "id": "e8uN72B45FPI"
   },
   "source": [
    "## Задачи для домашней работы"
   ]
  },
  {
   "cell_type": "markdown",
   "metadata": {},
   "source": [
    "#### №1 Посчитать количество строчных (маленьких) и прописных (больших) букв в введенной строке. Учитывать только английские буквы."
   ]
  },
  {
   "cell_type": "markdown",
   "metadata": {},
   "source": [
    "##### Вариант через методы islower, isupper"
   ]
  },
  {
   "cell_type": "code",
   "execution_count": 8,
   "metadata": {},
   "outputs": [
    {
     "name": "stdout",
     "output_type": "stream",
     "text": [
      "Number of capital letters: 18. Number of lowercase letters: 15\n"
     ]
    }
   ],
   "source": [
    "string = input(\"Enter the string:\")\n",
    "lower_count = 0\n",
    "upper_count = 0\n",
    "for symbol in string:\n",
    "    if symbol.islower():\n",
    "        lower_count += 1\n",
    "    if symbol.isupper():\n",
    "        upper_count += 1\n",
    "print(f'Number of capital letters: {lower_count}. Number of lowercase letters: {upper_count}')"
   ]
  },
  {
   "cell_type": "markdown",
   "metadata": {},
   "source": [
    "##### Вариант через ord()"
   ]
  },
  {
   "cell_type": "code",
   "execution_count": 9,
   "metadata": {},
   "outputs": [
    {
     "name": "stdout",
     "output_type": "stream",
     "text": [
      "Number of capital letters: 3. Number of lowercase letters: 3\n"
     ]
    }
   ],
   "source": [
    "string = input(\"Enter the string:\")\n",
    "lower_count = 0\n",
    "upper_count = 0\n",
    "for symbol in string:\n",
    "    if ord(symbol) in range(ord('A'), ord('Z') + 1):\n",
    "        upper_count += 1\n",
    "    if ord(symbol) in range(ord('a'), ord('z') + 1):\n",
    "        lower_count += 1\n",
    "print(\n",
    "    f'Number of capital letters: {lower_count}. Number of lowercase letters: {upper_count}')"
   ]
  },
  {
   "cell_type": "markdown",
   "metadata": {},
   "source": [
    "#### №2 Уравнение прямой вида `y = kx + b` задано в виде строки. Определить координату y точки с заданной координатой x. `k` и `b` всегда в наличии, всегда неотрицательны.\n",
    "\n",
    "Примеры:\n",
    "\n",
    "Для строки `y=5x+6` ответ `k=5` и `b=6`;\n",
    "Для строки `y=10+0x` ответ `k=0` и `b=10`;\n",
    "Для строки `0 + 1x = y` ответ `k=1` и `b=0`;"
   ]
  },
  {
   "cell_type": "code",
   "execution_count": 30,
   "metadata": {},
   "outputs": [
    {
     "name": "stdout",
     "output_type": "stream",
     "text": [
      "k = 837, b = 228\n"
     ]
    }
   ],
   "source": [
    "equation = input('Enter the equation:').strip(\"= y\").replace(' ', '').split('+')\n",
    "k = equation[0].strip('x') if equation[0].find('x') != -1 else equation[1].strip('x')\n",
    "b = equation[0] if equation[0].find('x') == -1 else equation[1]\n",
    "\n",
    "print(f'k = {k}, b = {b}')"
   ]
  },
  {
   "cell_type": "markdown",
   "metadata": {},
   "source": [
    "#### №3 Используя строковые операции конкатенации и домножения на целое число строки постройте таблицу вида:\n",
    "```\n",
    "+--+--+\n",
    "|  |  |\n",
    "|  |  |\n",
    "|  |  |\n",
    "+--+--+\n",
    "|  |  |\n",
    "|  |  |\n",
    "|  |  |\n",
    "+--+--+\n",
    "|  |  |\n",
    "|  |  |\n",
    "|  |  |\n",
    "+--+--+\n",
    "|  |  |\n",
    "|  |  |\n",
    "|  |  |\n",
    "+--+--+\n",
    "```\n",
    "для заданных параметров *N* - количество строк в таблице, *M* - количество столбцов, *L* - количество `-` между `+`, *H* - количество `|` между `+`.\n",
    "\n",
    "В примере\n",
    "```\n",
    "N = 4\n",
    "M = 2\n",
    "L = 2\n",
    "H = 3\n",
    "```\n",
    "\n",
    "Программа должна работать для любых параметров положительных целочисленных `N`, `M`, `L`, `H`"
   ]
  },
  {
   "cell_type": "code",
   "execution_count": 51,
   "metadata": {},
   "outputs": [
    {
     "name": "stdout",
     "output_type": "stream",
     "text": [
      "+------+------+------+------+------+------+------+------+\n",
      "|      |      |      |      |      |      |      |      |\n",
      "|      |      |      |      |      |      |      |      |\n",
      "+------+------+------+------+------+------+------+------+\n",
      "|      |      |      |      |      |      |      |      |\n",
      "|      |      |      |      |      |      |      |      |\n",
      "+------+------+------+------+------+------+------+------+\n",
      "|      |      |      |      |      |      |      |      |\n",
      "|      |      |      |      |      |      |      |      |\n",
      "+------+------+------+------+------+------+------+------+\n",
      "|      |      |      |      |      |      |      |      |\n",
      "|      |      |      |      |      |      |      |      |\n",
      "+------+------+------+------+------+------+------+------+\n",
      "|      |      |      |      |      |      |      |      |\n",
      "|      |      |      |      |      |      |      |      |\n",
      "+------+------+------+------+------+------+------+------+\n",
      "|      |      |      |      |      |      |      |      |\n",
      "|      |      |      |      |      |      |      |      |\n",
      "+------+------+------+------+------+------+------+------+\n",
      "|      |      |      |      |      |      |      |      |\n",
      "|      |      |      |      |      |      |      |      |\n",
      "+------+------+------+------+------+------+------+------+\n",
      "|      |      |      |      |      |      |      |      |\n",
      "|      |      |      |      |      |      |      |      |\n",
      "+------+------+------+------+------+------+------+------+\n",
      "\n"
     ]
    }
   ],
   "source": [
    "rows = int(input('Enter the number of rows: '))\n",
    "height = int(input('Enter the height of each row: '))\n",
    "columns = int(input('Enter the number of columns: '))\n",
    "width = int(input('Enter the width of the column: '))\n",
    "\n",
    "border_horizontal = ('+' + '-' * width) * columns + '+\\n'\n",
    "borders_vertical = (('|' + ' ' * width) *\n",
    " columns + '|\\n') * height\n",
    "\n",
    "print(((border_horizontal + borders_vertical) * rows) + border_horizontal)"
   ]
  },
  {
   "cell_type": "markdown",
   "metadata": {},
   "source": [
    "#### №4 Задачи с тестирующими системами (не на оценку)\n",
    "\n",
    "[Количество нулей](https://acmp.ru/asp/do/index.asp?main=task&id_course=1&id_section=4&id_topic=38&id_problem=250)\n",
    "\n",
    "[Удаление цифр](https://acmp.ru/asp/do/index.asp?main=task&id_course=1&id_section=4&id_topic=38&id_problem=251)\n",
    "\n",
    "[Вставка символов](https://acmp.ru/asp/do/index.asp?main=task&id_course=1&id_section=4&id_topic=38&id_problem=252)\n",
    "\n",
    "[Пароль](https://acmp.ru/asp/do/index.asp?main=task&id_course=1&id_section=4&id_topic=38&id_problem=254) - могут понадобиться и ранее непройденные методы. Можно посмотреть [тут](https://www.w3schools.com/python/python_ref_string.asp)\n",
    "\n",
    "[Чисто Е](https://acmp.ru/asp/do/index.asp?main=task&id_course=1&id_section=4&id_topic=39&id_problem=240) - \n",
    "\n",
    "```python\n",
    "import math\n",
    "math.e\n",
    "```\n",
    "\n",
    "[]()\n",
    "\n",
    "[]()"
   ]
  },
  {
   "cell_type": "markdown",
   "metadata": {},
   "source": [
    "[Количество нулей](https://acmp.ru/asp/do/index.asp?main=task&id_course=1&id_section=4&id_topic=38&id_problem=250)\n",
    "\n",
    "Входные данные\n",
    "Входной файл INPUT.TXT содержит натуральное число N (N ≤ 1030).\n",
    "\n",
    "Выходные данные\n",
    "В выходной файл OUTPUT.TXT выведите число нулей в числе N."
   ]
  },
  {
   "cell_type": "code",
   "execution_count": 56,
   "metadata": {},
   "outputs": [],
   "source": [
    "with open('input.txt', 'r') as input_data:\n",
    "    number = input_data.readline()\n",
    "\n",
    "with open(\"output.txt\", \"w\") as output_data:\n",
    "\tprint(number.count('0'), file = output_data)"
   ]
  },
  {
   "cell_type": "markdown",
   "metadata": {},
   "source": [
    "[Удаление цифр](https://acmp.ru/asp/do/index.asp?main=task&id_course=1&id_section=4&id_topic=38&id_problem=251)"
   ]
  },
  {
   "cell_type": "markdown",
   "metadata": {},
   "source": [
    "Дана строка, состоящая из английских букв, специальных символов и цифр. Необходимо удалить в ней все цифры 4 и 7.\n",
    "\n",
    "Входные данные\n",
    "Входной файл INPUT.TXT содержит строку S, состоящую из символов с ASCII-кодами от 33 до 127. Длина строки не превосходит 100.\n",
    "\n",
    "Выходные данные\n",
    "В выходной файл OUTPUT.TXT выведите исходную строку без цифр 4 и 7."
   ]
  },
  {
   "cell_type": "code",
   "execution_count": 58,
   "metadata": {},
   "outputs": [],
   "source": [
    "with open('input.txt', 'r') as input_data:\n",
    "    number = input_data.readline()\n",
    "\n",
    "with open(\"output.txt\", \"w\") as output_data:\n",
    "\tprint(number.replace('4','').replace('7', ''), file = output_data)"
   ]
  },
  {
   "cell_type": "markdown",
   "metadata": {},
   "source": [
    "[Вставка символов](https://acmp.ru/asp/do/index.asp?main=task&id_course=1&id_section=4&id_topic=38&id_problem=252)\n",
    "\n",
    "Дана строка. Требуется между ее символами вставить символ «#» (ASCII 35).\n",
    "\n",
    "Входные данные\n",
    "Входной файл INPUT.TXT содержит строку, состоящую только из английских букв. Строка содержит от 1 до 100 букв.\n",
    "\n",
    "Выходные данные\n",
    "В выходной файл OUTPUT.TXT выведите строку, полученную из исходной, путем вставки символа «#» между всеми ее буквами."
   ]
  },
  {
   "cell_type": "code",
   "execution_count": 63,
   "metadata": {},
   "outputs": [],
   "source": [
    "with open('input.txt', 'r') as input_data:\n",
    "    string = input_data.readline().strip()\n",
    "\n",
    "with open(\"output.txt\", \"w\") as output_data:\n",
    "\tprint('#'.join(string), file = output_data)"
   ]
  },
  {
   "cell_type": "markdown",
   "metadata": {},
   "source": [
    "[Пароль](https://acmp.ru/asp/do/index.asp?main=task&id_course=1&id_section=4&id_topic=38&id_problem=254) - могут понадобиться и ранее непройденные методы. Можно посмотреть [тут](https://www.w3schools.com/python/python_ref_string.asp)\n",
    "\n",
    "Пароль называется криптостойким, если он включает в себя хотя бы одну строчную английскую букву, хотя бы одну заглавную английскую букву и хотя бы одну цифру, при этом его длина должна быть не менее 12 символов.\n",
    "\n",
    "Требуется по данному паролю определить, является ли он криптостойким.\n",
    "\n",
    "Входные данные\n",
    "Входной файл INPUT.TXT содержит строку, состоящую только из английских букв и цифр. Длина строки не превосходит 100.\n",
    "\n",
    "Выходные данные\n",
    "В выходной файл OUTPUT.TXT выведите «Yes», если пароль является криптостойким и «No» – в противном случае."
   ]
  },
  {
   "cell_type": "code",
   "execution_count": 71,
   "metadata": {},
   "outputs": [],
   "source": [
    "import re\n",
    "with open('input.txt', 'r') as input_data:\n",
    "    password = input_data.readline().strip()\n",
    "is_cryptoresistant = len(password) >= 12 and re.findall(\n",
    "    \"[A-Z]\", password) and re.findall(\"[a-z]\", password) and re.findall(\"[0-9]\", password)\n",
    "with open(\"output.txt\", \"w\") as output_data:\n",
    "\tprint('Yes', file = output_data) if is_cryptoresistant else print(\n",
    "\t    'No', file = output_data)"
   ]
  },
  {
   "cell_type": "markdown",
   "metadata": {},
   "source": [
    "[Чисто Е](https://acmp.ru/asp/do/index.asp?main=task&id_course=1&id_section=4&id_topic=39&id_problem=240) - \n",
    "\n",
    "```python\n",
    "import math\n",
    "math.e\n",
    "```\n",
    "\n",
    "[]()\n",
    "\n",
    "[]()\n",
    "\n",
    "Выведите в выходной файл округленное до n знаков после десятичной точки число E. В данной задаче будем считать, что число Е в точности равно 2.7182818284590452353602875.\n",
    "\n",
    "Входные данные\n",
    "Входной файл INPUT.TXT содержит целое число n (0 ≤ n ≤ 25).\n",
    "\n",
    "Выходные данные\n",
    "В выходной файл OUTPUT.TXT выведите ответ на задачу."
   ]
  },
  {
   "cell_type": "code",
   "execution_count": 176,
   "metadata": {},
   "outputs": [],
   "source": [
    "import math\n",
    "with open('input.txt', 'r') as input_data:\n",
    "    number = int(input_data.readline().strip())\n",
    "\n",
    "with open(\"output.txt\", \"w\") as output_data:\n",
    "    print(f'{math.e:.{number}f}', file = output_data)"
   ]
  }
 ],
 "metadata": {
  "colab": {
   "collapsed_sections": [],
   "name": "3._Строковые_операции_строки.ipynb",
   "provenance": [],
   "toc_visible": true
  },
  "interpreter": {
   "hash": "369f2c481f4da34e4445cda3fffd2e751bd1c4d706f27375911949ba6bb62e1c"
  },
  "kernelspec": {
   "display_name": "Python 3.10.4 64-bit",
   "language": "python",
   "name": "python3"
  },
  "language_info": {
   "codemirror_mode": {
    "name": "ipython",
    "version": 3
   },
   "file_extension": ".py",
   "mimetype": "text/x-python",
   "name": "python",
   "nbconvert_exporter": "python",
   "pygments_lexer": "ipython3",
   "version": "3.10.4"
  }
 },
 "nbformat": 4,
 "nbformat_minor": 1
}
